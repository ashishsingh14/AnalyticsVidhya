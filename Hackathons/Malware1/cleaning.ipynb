{
 "metadata": {
  "name": ""
 },
 "nbformat": 3,
 "nbformat_minor": 0,
 "worksheets": [
  {
   "cells": [
    {
     "cell_type": "code",
     "collapsed": false,
     "input": [
      "import pandas as pd\n",
      "import numpy as np\n",
      "import re\n"
     ],
     "language": "python",
     "metadata": {},
     "outputs": [],
     "prompt_number": 1
    },
    {
     "cell_type": "code",
     "collapsed": false,
     "input": [
      "data = pd.read_csv(\"train.csv\")"
     ],
     "language": "python",
     "metadata": {},
     "outputs": [],
     "prompt_number": 29
    },
    {
     "cell_type": "code",
     "collapsed": false,
     "input": [
      "data.head()"
     ],
     "language": "python",
     "metadata": {},
     "outputs": [
      {
       "html": [
        "<div style=\"max-width:1500px;overflow:auto;\">\n",
        "<table border=\"1\" class=\"dataframe\">\n",
        "  <thead>\n",
        "    <tr style=\"text-align: right;\">\n",
        "      <th></th>\n",
        "      <th>ID</th>\n",
        "      <th>tweet</th>\n",
        "      <th>label</th>\n",
        "    </tr>\n",
        "  </thead>\n",
        "  <tbody>\n",
        "    <tr>\n",
        "      <th>0</th>\n",
        "      <td>T000452358</td>\n",
        "      <td>b'oh yea that makes sense '</td>\n",
        "      <td>sarcastic</td>\n",
        "    </tr>\n",
        "    <tr>\n",
        "      <th>1</th>\n",
        "      <td>T000452359</td>\n",
        "      <td>Estas enfermedad a un cargo poltico tu como pb...</td>\n",
        "      <td>sarcastic</td>\n",
        "    </tr>\n",
        "    <tr>\n",
        "      <th>2</th>\n",
        "      <td>T000452360</td>\n",
        "      <td>@alleygirl2409 until i\\'m and all the old men ...</td>\n",
        "      <td>sarcastic</td>\n",
        "    </tr>\n",
        "    <tr>\n",
        "      <th>3</th>\n",
        "      <td>T000452361</td>\n",
        "      <td>b\"@sarinas it had been chanted peacefully you ...</td>\n",
        "      <td>sarcastic</td>\n",
        "    </tr>\n",
        "    <tr>\n",
        "      <th>4</th>\n",
        "      <td>T000452362</td>\n",
        "      <td>b\"there's nothing like being on vacation and h...</td>\n",
        "      <td>sarcastic</td>\n",
        "    </tr>\n",
        "  </tbody>\n",
        "</table>\n",
        "</div>"
       ],
       "metadata": {},
       "output_type": "pyout",
       "prompt_number": 30,
       "text": [
        "           ID                                              tweet      label\n",
        "0  T000452358                        b'oh yea that makes sense '  sarcastic\n",
        "1  T000452359  Estas enfermedad a un cargo poltico tu como pb...  sarcastic\n",
        "2  T000452360  @alleygirl2409 until i\\'m and all the old men ...  sarcastic\n",
        "3  T000452361  b\"@sarinas it had been chanted peacefully you ...  sarcastic\n",
        "4  T000452362  b\"there's nothing like being on vacation and h...  sarcastic"
       ]
      }
     ],
     "prompt_number": 30
    },
    {
     "cell_type": "code",
     "collapsed": false,
     "input": [
      "from nltk.corpus import stopwords"
     ],
     "language": "python",
     "metadata": {},
     "outputs": [],
     "prompt_number": 4
    },
    {
     "cell_type": "code",
     "collapsed": false,
     "input": [
      "removeHashTags = re.compile(r\"#\\w+\\s*\")"
     ],
     "language": "python",
     "metadata": {},
     "outputs": [],
     "prompt_number": 16
    },
    {
     "cell_type": "code",
     "collapsed": false,
     "input": [
      "a = \"#adfd#dfdf    #adfdfd.\"\n",
      "a = removeHashTags.sub(\"\",a)"
     ],
     "language": "python",
     "metadata": {},
     "outputs": [],
     "prompt_number": 19
    },
    {
     "cell_type": "code",
     "collapsed": false,
     "input": [
      "removeFriendTag = re.compile(r\"@\\w+\\s*\")"
     ],
     "language": "python",
     "metadata": {},
     "outputs": [],
     "prompt_number": 24
    },
    {
     "cell_type": "code",
     "collapsed": false,
     "input": [
      "re.escape(\"#asd$\")"
     ],
     "language": "python",
     "metadata": {},
     "outputs": [
      {
       "metadata": {},
       "output_type": "pyout",
       "prompt_number": 21,
       "text": [
        "'\\\\#asd\\\\$'"
       ]
      }
     ],
     "prompt_number": 21
    },
    {
     "cell_type": "code",
     "collapsed": false,
     "input": [
      "removeSarcasm = re.compile(re.escape('sarcasm'),re.IGNORECASE)\n",
      "removeSarcastic = re.compile(re.escape('sarcastic'),re.IGNORECASE)"
     ],
     "language": "python",
     "metadata": {},
     "outputs": [],
     "prompt_number": 22
    },
    {
     "cell_type": "code",
     "collapsed": false,
     "input": [
      "removeSarcasm"
     ],
     "language": "python",
     "metadata": {},
     "outputs": [
      {
       "metadata": {},
       "output_type": "pyout",
       "prompt_number": 23,
       "text": [
        "re.compile(r'sarcasm', re.IGNORECASE)"
       ]
      }
     ],
     "prompt_number": 23
    },
    {
     "cell_type": "code",
     "collapsed": false,
     "input": [
      "data[\"tweet\"] = data[\"tweet\"].str.lower()\n",
      "data[\"tweet\"] = data[\"tweet\"].apply(lambda x: removeHashTags.sub(\"\",x))\n",
      "data[\"tweet\"] = data[\"tweet\"].apply(lambda x: removeFriendTag.sub(\"\",x))\n",
      "data[\"tweet\"] = data[\"tweet\"].apply(lambda x: removeSarcasm.sub(\"\",x))\n",
      "data[\"tweet\"] = data[\"tweet\"].apply(lambda x: removeSarcastic.sub(\"\",x))\n",
      "data[\"tweet\"] = data[\"tweet\"].apply(lambda x: x.split())\n",
      "data[\"tweet\"] = data[\"tweet\"].apply(lambda x: \" \".join(x))\n"
     ],
     "language": "python",
     "metadata": {},
     "outputs": [],
     "prompt_number": 31
    },
    {
     "cell_type": "code",
     "collapsed": false,
     "input": [
      "data.head()"
     ],
     "language": "python",
     "metadata": {},
     "outputs": [
      {
       "html": [
        "<div style=\"max-width:1500px;overflow:auto;\">\n",
        "<table border=\"1\" class=\"dataframe\">\n",
        "  <thead>\n",
        "    <tr style=\"text-align: right;\">\n",
        "      <th></th>\n",
        "      <th>ID</th>\n",
        "      <th>tweet</th>\n",
        "      <th>label</th>\n",
        "    </tr>\n",
        "  </thead>\n",
        "  <tbody>\n",
        "    <tr>\n",
        "      <th>0</th>\n",
        "      <td>T000452358</td>\n",
        "      <td>b'oh yea that makes sense '</td>\n",
        "      <td>sarcastic</td>\n",
        "    </tr>\n",
        "    <tr>\n",
        "      <th>1</th>\n",
        "      <td>T000452359</td>\n",
        "      <td>estas enfermedad a un cargo poltico tu como pb...</td>\n",
        "      <td>sarcastic</td>\n",
        "    </tr>\n",
        "    <tr>\n",
        "      <th>2</th>\n",
        "      <td>T000452360</td>\n",
        "      <td>until i\\'m and all the old men will finally da...</td>\n",
        "      <td>sarcastic</td>\n",
        "    </tr>\n",
        "    <tr>\n",
        "      <th>3</th>\n",
        "      <td>T000452361</td>\n",
        "      <td>b\"it had been chanted peacefully you can't den...</td>\n",
        "      <td>sarcastic</td>\n",
        "    </tr>\n",
        "    <tr>\n",
        "      <th>4</th>\n",
        "      <td>T000452362</td>\n",
        "      <td>b\"there's nothing like being on vacation and h...</td>\n",
        "      <td>sarcastic</td>\n",
        "    </tr>\n",
        "  </tbody>\n",
        "</table>\n",
        "</div>"
       ],
       "metadata": {},
       "output_type": "pyout",
       "prompt_number": 32,
       "text": [
        "           ID                                              tweet      label\n",
        "0  T000452358                        b'oh yea that makes sense '  sarcastic\n",
        "1  T000452359  estas enfermedad a un cargo poltico tu como pb...  sarcastic\n",
        "2  T000452360  until i\\'m and all the old men will finally da...  sarcastic\n",
        "3  T000452361  b\"it had been chanted peacefully you can't den...  sarcastic\n",
        "4  T000452362  b\"there's nothing like being on vacation and h...  sarcastic"
       ]
      }
     ],
     "prompt_number": 32
    },
    {
     "cell_type": "code",
     "collapsed": false,
     "input": [],
     "language": "python",
     "metadata": {},
     "outputs": []
    }
   ],
   "metadata": {}
  }
 ]
}