{
 "metadata": {
  "name": ""
 },
 "nbformat": 3,
 "nbformat_minor": 0,
 "worksheets": [
  {
   "cells": [
    {
     "cell_type": "code",
     "collapsed": false,
     "input": [
      "import pandas as pd\n",
      "import numpy as np\n"
     ],
     "language": "python",
     "metadata": {},
     "outputs": [],
     "prompt_number": 1
    },
    {
     "cell_type": "code",
     "collapsed": false,
     "input": [
      "trainDF = pd.read_csv(\"train.csv\")\n",
      "testDF = pd.read_csv(\"test.csv\")"
     ],
     "language": "python",
     "metadata": {},
     "outputs": [],
     "prompt_number": 3
    },
    {
     "cell_type": "code",
     "collapsed": false,
     "input": [
      "trainDF.head()"
     ],
     "language": "python",
     "metadata": {},
     "outputs": [
      {
       "html": [
        "<div style=\"max-width:1500px;overflow:auto;\">\n",
        "<table border=\"1\" class=\"dataframe\">\n",
        "  <thead>\n",
        "    <tr style=\"text-align: right;\">\n",
        "      <th></th>\n",
        "      <th>ID</th>\n",
        "      <th>userId</th>\n",
        "      <th>itemId</th>\n",
        "      <th>rating</th>\n",
        "    </tr>\n",
        "  </thead>\n",
        "  <tbody>\n",
        "    <tr>\n",
        "      <th>0</th>\n",
        "      <td>16041_129</td>\n",
        "      <td>16041</td>\n",
        "      <td>129</td>\n",
        "      <td>0.5</td>\n",
        "    </tr>\n",
        "    <tr>\n",
        "      <th>1</th>\n",
        "      <td>16041_25</td>\n",
        "      <td>16041</td>\n",
        "      <td>25</td>\n",
        "      <td>0.5</td>\n",
        "    </tr>\n",
        "    <tr>\n",
        "      <th>2</th>\n",
        "      <td>16041_28</td>\n",
        "      <td>16041</td>\n",
        "      <td>28</td>\n",
        "      <td>5.5</td>\n",
        "    </tr>\n",
        "    <tr>\n",
        "      <th>3</th>\n",
        "      <td>16041_101</td>\n",
        "      <td>16041</td>\n",
        "      <td>101</td>\n",
        "      <td>0.5</td>\n",
        "    </tr>\n",
        "    <tr>\n",
        "      <th>4</th>\n",
        "      <td>16041_47</td>\n",
        "      <td>16041</td>\n",
        "      <td>47</td>\n",
        "      <td>1.5</td>\n",
        "    </tr>\n",
        "  </tbody>\n",
        "</table>\n",
        "</div>"
       ],
       "metadata": {},
       "output_type": "pyout",
       "prompt_number": 4,
       "text": [
        "          ID  userId  itemId  rating\n",
        "0  16041_129   16041     129     0.5\n",
        "1   16041_25   16041      25     0.5\n",
        "2   16041_28   16041      28     5.5\n",
        "3  16041_101   16041     101     0.5\n",
        "4   16041_47   16041      47     1.5"
       ]
      }
     ],
     "prompt_number": 4
    },
    {
     "cell_type": "code",
     "collapsed": false,
     "input": [
      "meanRatingsPerItem = trainDF.pivot_table(values=\"rating\",index=\"userId\",columns=\"itemId\")"
     ],
     "language": "python",
     "metadata": {},
     "outputs": [],
     "prompt_number": 11
    },
    {
     "cell_type": "code",
     "collapsed": false,
     "input": [
      "meanRatings =  trainDF.pivot_table(values=\"rating\",index=\"userId\")\n",
      "meanRatings[2]"
     ],
     "language": "python",
     "metadata": {},
     "outputs": [
      {
       "metadata": {},
       "output_type": "pyout",
       "prompt_number": 21,
       "text": [
        "3.0909090909090908"
       ]
      }
     ],
     "prompt_number": 21
    },
    {
     "cell_type": "code",
     "collapsed": false,
     "input": [
      "testDF.head()"
     ],
     "language": "python",
     "metadata": {},
     "outputs": [
      {
       "html": [
        "<div style=\"max-width:1500px;overflow:auto;\">\n",
        "<table border=\"1\" class=\"dataframe\">\n",
        "  <thead>\n",
        "    <tr style=\"text-align: right;\">\n",
        "      <th></th>\n",
        "      <th>ID</th>\n",
        "      <th>userId</th>\n",
        "      <th>itemId</th>\n",
        "    </tr>\n",
        "  </thead>\n",
        "  <tbody>\n",
        "    <tr>\n",
        "      <th>0</th>\n",
        "      <td>16041_10</td>\n",
        "      <td>16041</td>\n",
        "      <td>10</td>\n",
        "    </tr>\n",
        "    <tr>\n",
        "      <th>1</th>\n",
        "      <td>16041_107</td>\n",
        "      <td>16041</td>\n",
        "      <td>107</td>\n",
        "    </tr>\n",
        "    <tr>\n",
        "      <th>2</th>\n",
        "      <td>16041_1</td>\n",
        "      <td>16041</td>\n",
        "      <td>1</td>\n",
        "    </tr>\n",
        "    <tr>\n",
        "      <th>3</th>\n",
        "      <td>16041_40</td>\n",
        "      <td>16041</td>\n",
        "      <td>40</td>\n",
        "    </tr>\n",
        "    <tr>\n",
        "      <th>4</th>\n",
        "      <td>16041_96</td>\n",
        "      <td>16041</td>\n",
        "      <td>96</td>\n",
        "    </tr>\n",
        "  </tbody>\n",
        "</table>\n",
        "</div>"
       ],
       "metadata": {},
       "output_type": "pyout",
       "prompt_number": 13,
       "text": [
        "          ID  userId  itemId\n",
        "0   16041_10   16041      10\n",
        "1  16041_107   16041     107\n",
        "2    16041_1   16041       1\n",
        "3   16041_40   16041      40\n",
        "4   16041_96   16041      96"
       ]
      }
     ],
     "prompt_number": 13
    },
    {
     "cell_type": "code",
     "collapsed": false,
     "input": [],
     "language": "python",
     "metadata": {},
     "outputs": [],
     "prompt_number": 15
    },
    {
     "cell_type": "code",
     "collapsed": false,
     "input": [
      "type(solutionDF)"
     ],
     "language": "python",
     "metadata": {},
     "outputs": [
      {
       "metadata": {},
       "output_type": "pyout",
       "prompt_number": 16,
       "text": [
        "pandas.core.frame.DataFrame"
       ]
      }
     ],
     "prompt_number": 16
    },
    {
     "cell_type": "code",
     "collapsed": false,
     "input": [
      "testDF[\"rating\"] = testDF[\"userId\"].apply(lambda x: meanRatings[x] )"
     ],
     "language": "python",
     "metadata": {},
     "outputs": [],
     "prompt_number": 22
    },
    {
     "cell_type": "code",
     "collapsed": false,
     "input": [
      "testDF.head()"
     ],
     "language": "python",
     "metadata": {},
     "outputs": [
      {
       "html": [
        "<div style=\"max-width:1500px;overflow:auto;\">\n",
        "<table border=\"1\" class=\"dataframe\">\n",
        "  <thead>\n",
        "    <tr style=\"text-align: right;\">\n",
        "      <th></th>\n",
        "      <th>ID</th>\n",
        "      <th>userId</th>\n",
        "      <th>itemId</th>\n",
        "      <th>rating</th>\n",
        "    </tr>\n",
        "  </thead>\n",
        "  <tbody>\n",
        "    <tr>\n",
        "      <th>0</th>\n",
        "      <td>16041_10</td>\n",
        "      <td>16041</td>\n",
        "      <td>10</td>\n",
        "      <td>5.862069</td>\n",
        "    </tr>\n",
        "    <tr>\n",
        "      <th>1</th>\n",
        "      <td>16041_107</td>\n",
        "      <td>16041</td>\n",
        "      <td>107</td>\n",
        "      <td>5.862069</td>\n",
        "    </tr>\n",
        "    <tr>\n",
        "      <th>2</th>\n",
        "      <td>16041_1</td>\n",
        "      <td>16041</td>\n",
        "      <td>1</td>\n",
        "      <td>5.862069</td>\n",
        "    </tr>\n",
        "    <tr>\n",
        "      <th>3</th>\n",
        "      <td>16041_40</td>\n",
        "      <td>16041</td>\n",
        "      <td>40</td>\n",
        "      <td>5.862069</td>\n",
        "    </tr>\n",
        "    <tr>\n",
        "      <th>4</th>\n",
        "      <td>16041_96</td>\n",
        "      <td>16041</td>\n",
        "      <td>96</td>\n",
        "      <td>5.862069</td>\n",
        "    </tr>\n",
        "  </tbody>\n",
        "</table>\n",
        "</div>"
       ],
       "metadata": {},
       "output_type": "pyout",
       "prompt_number": 23,
       "text": [
        "          ID  userId  itemId    rating\n",
        "0   16041_10   16041      10  5.862069\n",
        "1  16041_107   16041     107  5.862069\n",
        "2    16041_1   16041       1  5.862069\n",
        "3   16041_40   16041      40  5.862069\n",
        "4   16041_96   16041      96  5.862069"
       ]
      }
     ],
     "prompt_number": 23
    },
    {
     "cell_type": "code",
     "collapsed": false,
     "input": [
      "solutionDF = testDF[[\"ID\",\"rating\"]]"
     ],
     "language": "python",
     "metadata": {},
     "outputs": [],
     "prompt_number": 24
    },
    {
     "cell_type": "code",
     "collapsed": false,
     "input": [
      "solutionDF.to_csv(\"soluton1.csv\",index=False)"
     ],
     "language": "python",
     "metadata": {},
     "outputs": [],
     "prompt_number": 25
    },
    {
     "cell_type": "code",
     "collapsed": false,
     "input": [],
     "language": "python",
     "metadata": {},
     "outputs": []
    }
   ],
   "metadata": {}
  }
 ]
}