{
 "metadata": {
  "name": ""
 },
 "nbformat": 3,
 "nbformat_minor": 0,
 "worksheets": [
  {
   "cells": [
    {
     "cell_type": "code",
     "collapsed": false,
     "input": [
      "import numpy as np\n",
      "import pandas as pd\n",
      "from sklearn.preprocessing import LabelEncoder\n",
      "import xgboost as xgb\n"
     ],
     "language": "python",
     "metadata": {},
     "outputs": [],
     "prompt_number": 16
    },
    {
     "cell_type": "code",
     "collapsed": false,
     "input": [
      "train = pd.read_csv(\"train.csv\")\n",
      "test = pd.read_csv(\"test.csv\")"
     ],
     "language": "python",
     "metadata": {},
     "outputs": [],
     "prompt_number": 33
    },
    {
     "cell_type": "code",
     "collapsed": false,
     "input": [
      "categorical_columns = [\"Product_ID\",\"Gender\",\"Age\",\"Occupation\",\"City_Category\",\"Stay_In_Current_City_Years\",\"Marital_Status\",\"Product_Category_1\",\"Product_Category_2\",\"Product_Category_3\"]\n"
     ],
     "language": "python",
     "metadata": {},
     "outputs": [],
     "prompt_number": 34
    },
    {
     "cell_type": "code",
     "collapsed": false,
     "input": [
      "train_X = train.copy()\n",
      "test_X = test.copy()"
     ],
     "language": "python",
     "metadata": {},
     "outputs": [],
     "prompt_number": 35
    },
    {
     "cell_type": "code",
     "collapsed": false,
     "input": [
      "train_X.fillna(999, inplace=True)\n",
      "test_X.fillna(999, inplace=True)"
     ],
     "language": "python",
     "metadata": {},
     "outputs": [],
     "prompt_number": 36
    },
    {
     "cell_type": "code",
     "collapsed": false,
     "input": [
      "le = LabelEncoder()\n",
      "for c in categorical_columns:\n",
      "    full_column = pd.concat([train_X[c], test_X[c]]).astype(\"str\")\n",
      "    le.fit(full_column)\n",
      "    train_X[c] = le.transform(train_X[c].astype(\"str\"))\n",
      "    test_X[c] = le.transform(test_X[c].astype(\"str\"))"
     ],
     "language": "python",
     "metadata": {},
     "outputs": [],
     "prompt_number": 37
    },
    {
     "cell_type": "code",
     "collapsed": false,
     "input": [
      "train_X.head()"
     ],
     "language": "python",
     "metadata": {},
     "outputs": [
      {
       "html": [
        "<div style=\"max-width:1500px;overflow:auto;\">\n",
        "<table border=\"1\" class=\"dataframe\">\n",
        "  <thead>\n",
        "    <tr style=\"text-align: right;\">\n",
        "      <th></th>\n",
        "      <th>User_ID</th>\n",
        "      <th>Product_ID</th>\n",
        "      <th>Gender</th>\n",
        "      <th>Age</th>\n",
        "      <th>Occupation</th>\n",
        "      <th>City_Category</th>\n",
        "      <th>Stay_In_Current_City_Years</th>\n",
        "      <th>Marital_Status</th>\n",
        "      <th>Product_Category_1</th>\n",
        "      <th>Product_Category_2</th>\n",
        "      <th>Product_Category_3</th>\n",
        "      <th>Purchase</th>\n",
        "    </tr>\n",
        "  </thead>\n",
        "  <tbody>\n",
        "    <tr>\n",
        "      <th>0</th>\n",
        "      <td>1000001</td>\n",
        "      <td>684</td>\n",
        "      <td>0</td>\n",
        "      <td>0</td>\n",
        "      <td>2</td>\n",
        "      <td>0</td>\n",
        "      <td>2</td>\n",
        "      <td>0</td>\n",
        "      <td>13</td>\n",
        "      <td>17</td>\n",
        "      <td>15</td>\n",
        "      <td>8370</td>\n",
        "    </tr>\n",
        "    <tr>\n",
        "      <th>1</th>\n",
        "      <td>1000001</td>\n",
        "      <td>2406</td>\n",
        "      <td>0</td>\n",
        "      <td>0</td>\n",
        "      <td>2</td>\n",
        "      <td>0</td>\n",
        "      <td>2</td>\n",
        "      <td>0</td>\n",
        "      <td>0</td>\n",
        "      <td>13</td>\n",
        "      <td>4</td>\n",
        "      <td>15200</td>\n",
        "    </tr>\n",
        "    <tr>\n",
        "      <th>2</th>\n",
        "      <td>1000001</td>\n",
        "      <td>868</td>\n",
        "      <td>0</td>\n",
        "      <td>0</td>\n",
        "      <td>2</td>\n",
        "      <td>0</td>\n",
        "      <td>2</td>\n",
        "      <td>0</td>\n",
        "      <td>3</td>\n",
        "      <td>17</td>\n",
        "      <td>15</td>\n",
        "      <td>1422</td>\n",
        "    </tr>\n",
        "    <tr>\n",
        "      <th>3</th>\n",
        "      <td>1000001</td>\n",
        "      <td>844</td>\n",
        "      <td>0</td>\n",
        "      <td>0</td>\n",
        "      <td>2</td>\n",
        "      <td>0</td>\n",
        "      <td>2</td>\n",
        "      <td>0</td>\n",
        "      <td>3</td>\n",
        "      <td>4</td>\n",
        "      <td>15</td>\n",
        "      <td>1057</td>\n",
        "    </tr>\n",
        "    <tr>\n",
        "      <th>4</th>\n",
        "      <td>1000002</td>\n",
        "      <td>2769</td>\n",
        "      <td>1</td>\n",
        "      <td>6</td>\n",
        "      <td>8</td>\n",
        "      <td>2</td>\n",
        "      <td>4</td>\n",
        "      <td>0</td>\n",
        "      <td>18</td>\n",
        "      <td>17</td>\n",
        "      <td>15</td>\n",
        "      <td>7969</td>\n",
        "    </tr>\n",
        "  </tbody>\n",
        "</table>\n",
        "</div>"
       ],
       "metadata": {},
       "output_type": "pyout",
       "prompt_number": 38,
       "text": [
        "   User_ID  Product_ID  Gender  Age  Occupation  City_Category  \\\n",
        "0  1000001         684       0    0           2              0   \n",
        "1  1000001        2406       0    0           2              0   \n",
        "2  1000001         868       0    0           2              0   \n",
        "3  1000001         844       0    0           2              0   \n",
        "4  1000002        2769       1    6           8              2   \n",
        "\n",
        "   Stay_In_Current_City_Years  Marital_Status  Product_Category_1  \\\n",
        "0                           2               0                  13   \n",
        "1                           2               0                   0   \n",
        "2                           2               0                   3   \n",
        "3                           2               0                   3   \n",
        "4                           4               0                  18   \n",
        "\n",
        "   Product_Category_2  Product_Category_3  Purchase  \n",
        "0                  17                  15      8370  \n",
        "1                  13                   4     15200  \n",
        "2                  17                  15      1422  \n",
        "3                   4                  15      1057  \n",
        "4                  17                  15      7969  "
       ]
      }
     ],
     "prompt_number": 38
    },
    {
     "cell_type": "code",
     "collapsed": false,
     "input": [
      "train_Y = np.array(train_X[\"Purchase\"])"
     ],
     "language": "python",
     "metadata": {},
     "outputs": [],
     "prompt_number": 39
    },
    {
     "cell_type": "code",
     "collapsed": false,
     "input": [
      "train_X.drop(\"Purchase\", axis=1, inplace=True)"
     ],
     "language": "python",
     "metadata": {},
     "outputs": [],
     "prompt_number": 40
    },
    {
     "cell_type": "code",
     "collapsed": false,
     "input": [
      "train_X.head()"
     ],
     "language": "python",
     "metadata": {},
     "outputs": [
      {
       "html": [
        "<div style=\"max-width:1500px;overflow:auto;\">\n",
        "<table border=\"1\" class=\"dataframe\">\n",
        "  <thead>\n",
        "    <tr style=\"text-align: right;\">\n",
        "      <th></th>\n",
        "      <th>User_ID</th>\n",
        "      <th>Product_ID</th>\n",
        "      <th>Gender</th>\n",
        "      <th>Age</th>\n",
        "      <th>Occupation</th>\n",
        "      <th>City_Category</th>\n",
        "      <th>Stay_In_Current_City_Years</th>\n",
        "      <th>Marital_Status</th>\n",
        "      <th>Product_Category_1</th>\n",
        "      <th>Product_Category_2</th>\n",
        "      <th>Product_Category_3</th>\n",
        "    </tr>\n",
        "  </thead>\n",
        "  <tbody>\n",
        "    <tr>\n",
        "      <th>0</th>\n",
        "      <td>1000001</td>\n",
        "      <td>684</td>\n",
        "      <td>0</td>\n",
        "      <td>0</td>\n",
        "      <td>2</td>\n",
        "      <td>0</td>\n",
        "      <td>2</td>\n",
        "      <td>0</td>\n",
        "      <td>13</td>\n",
        "      <td>17</td>\n",
        "      <td>15</td>\n",
        "    </tr>\n",
        "    <tr>\n",
        "      <th>1</th>\n",
        "      <td>1000001</td>\n",
        "      <td>2406</td>\n",
        "      <td>0</td>\n",
        "      <td>0</td>\n",
        "      <td>2</td>\n",
        "      <td>0</td>\n",
        "      <td>2</td>\n",
        "      <td>0</td>\n",
        "      <td>0</td>\n",
        "      <td>13</td>\n",
        "      <td>4</td>\n",
        "    </tr>\n",
        "    <tr>\n",
        "      <th>2</th>\n",
        "      <td>1000001</td>\n",
        "      <td>868</td>\n",
        "      <td>0</td>\n",
        "      <td>0</td>\n",
        "      <td>2</td>\n",
        "      <td>0</td>\n",
        "      <td>2</td>\n",
        "      <td>0</td>\n",
        "      <td>3</td>\n",
        "      <td>17</td>\n",
        "      <td>15</td>\n",
        "    </tr>\n",
        "    <tr>\n",
        "      <th>3</th>\n",
        "      <td>1000001</td>\n",
        "      <td>844</td>\n",
        "      <td>0</td>\n",
        "      <td>0</td>\n",
        "      <td>2</td>\n",
        "      <td>0</td>\n",
        "      <td>2</td>\n",
        "      <td>0</td>\n",
        "      <td>3</td>\n",
        "      <td>4</td>\n",
        "      <td>15</td>\n",
        "    </tr>\n",
        "    <tr>\n",
        "      <th>4</th>\n",
        "      <td>1000002</td>\n",
        "      <td>2769</td>\n",
        "      <td>1</td>\n",
        "      <td>6</td>\n",
        "      <td>8</td>\n",
        "      <td>2</td>\n",
        "      <td>4</td>\n",
        "      <td>0</td>\n",
        "      <td>18</td>\n",
        "      <td>17</td>\n",
        "      <td>15</td>\n",
        "    </tr>\n",
        "  </tbody>\n",
        "</table>\n",
        "</div>"
       ],
       "metadata": {},
       "output_type": "pyout",
       "prompt_number": 41,
       "text": [
        "   User_ID  Product_ID  Gender  Age  Occupation  City_Category  \\\n",
        "0  1000001         684       0    0           2              0   \n",
        "1  1000001        2406       0    0           2              0   \n",
        "2  1000001         868       0    0           2              0   \n",
        "3  1000001         844       0    0           2              0   \n",
        "4  1000002        2769       1    6           8              2   \n",
        "\n",
        "   Stay_In_Current_City_Years  Marital_Status  Product_Category_1  \\\n",
        "0                           2               0                  13   \n",
        "1                           2               0                   0   \n",
        "2                           2               0                   3   \n",
        "3                           2               0                   3   \n",
        "4                           4               0                  18   \n",
        "\n",
        "   Product_Category_2  Product_Category_3  \n",
        "0                  17                  15  \n",
        "1                  13                   4  \n",
        "2                  17                  15  \n",
        "3                   4                  15  \n",
        "4                  17                  15  "
       ]
      }
     ],
     "prompt_number": 41
    },
    {
     "cell_type": "code",
     "collapsed": false,
     "input": [
      "train_X = np.array(train_X)\n",
      "test_X = np.array(test_X)"
     ],
     "language": "python",
     "metadata": {},
     "outputs": [],
     "prompt_number": 42
    },
    {
     "cell_type": "code",
     "collapsed": false,
     "input": [
      "train_X"
     ],
     "language": "python",
     "metadata": {},
     "outputs": [
      {
       "metadata": {},
       "output_type": "pyout",
       "prompt_number": 43,
       "text": [
        "array([[1000001,     684,       0, ...,      13,      17,      15],\n",
        "       [1000001,    2406,       0, ...,       0,      13,       4],\n",
        "       [1000001,     868,       0, ...,       3,      17,      15],\n",
        "       ..., \n",
        "       [1006036,    3613,       0, ...,      12,      17,      15],\n",
        "       [1006038,    3613,       0, ...,      12,      17,      15],\n",
        "       [1006039,    3611,       0, ...,      12,      17,      15]])"
       ]
      }
     ],
     "prompt_number": 43
    },
    {
     "cell_type": "code",
     "collapsed": false,
     "input": [
      "test_X"
     ],
     "language": "python",
     "metadata": {},
     "outputs": [
      {
       "metadata": {},
       "output_type": "pyout",
       "prompt_number": 46,
       "text": [
        "array([[1000004,    1216,       1, ...,       0,       1,      15],\n",
        "       [1000009,    1063,       1, ...,      13,      12,      15],\n",
        "       [1000010,    2799,       0, ...,      15,       4,      15],\n",
        "       ..., \n",
        "       [1006036,     315,       0, ...,       0,      12,       2],\n",
        "       [1006037,    1175,       0, ...,       1,       6,      15],\n",
        "       [1006039,    3074,       0, ...,      14,      12,      15]])"
       ]
      }
     ],
     "prompt_number": 46
    },
    {
     "cell_type": "code",
     "collapsed": false,
     "input": [
      "params = {}\n",
      "params[\"objective\"] = \"reg:linear\"\n",
      "params[\"eta\"] = 0.05\n",
      "params[\"seed\"] = 0\n",
      "l = list(params.items())"
     ],
     "language": "python",
     "metadata": {},
     "outputs": [],
     "prompt_number": 47
    },
    {
     "cell_type": "code",
     "collapsed": false,
     "input": [
      "xgTrain = xgb.DMatrix(train_X,label=train_Y,missing=999)\n",
      "xgTest = xgb.DMatrix(test_X,missing = 999)\n",
      "rounds = 56\n",
      "model = xgb.train(l,xgTrain,rounds)\n",
      "predictions = model.predict(xgTest)\n"
     ],
     "language": "python",
     "metadata": {},
     "outputs": [],
     "prompt_number": 48
    },
    {
     "cell_type": "code",
     "collapsed": false,
     "input": [
      "predictions"
     ],
     "language": "python",
     "metadata": {},
     "outputs": [
      {
       "metadata": {},
       "output_type": "pyout",
       "prompt_number": 49,
       "text": [
        "array([ 13730.03417969,  10279.56640625,   5745.05419922, ...,\n",
        "        12058.61328125,  14313.70898438,   3291.35668945], dtype=float32)"
       ]
      }
     ],
     "prompt_number": 49
    },
    {
     "cell_type": "code",
     "collapsed": false,
     "input": [
      "test['Purchase']=predictions\n",
      "test.to_csv('./solution1.csv',columns = ['User_ID','Product_ID','Purchase'],index = False)\n"
     ],
     "language": "python",
     "metadata": {},
     "outputs": [],
     "prompt_number": 51
    },
    {
     "cell_type": "code",
     "collapsed": false,
     "input": [],
     "language": "python",
     "metadata": {},
     "outputs": []
    }
   ],
   "metadata": {}
  }
 ]
}