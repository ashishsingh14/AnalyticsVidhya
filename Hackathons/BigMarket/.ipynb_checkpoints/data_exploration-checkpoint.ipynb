{
 "metadata": {
  "name": ""
 },
 "nbformat": 3,
 "nbformat_minor": 0,
 "worksheets": [
  {
   "cells": [
    {
     "cell_type": "code",
     "collapsed": false,
     "input": [
      "import pandas as pd\n",
      "import numpy as np \n",
      "import matplotlib.pyplot as plt\n",
      "from sklearn.preprocessing import LabelEncoder\n",
      "from sklearn.preprocessing import StandardScaler\n",
      "from sklearn.ensemble import RandomForestClassifier\n",
      "from sklearn.linear_model import LogisticRegression"
     ],
     "language": "python",
     "metadata": {},
     "outputs": [],
     "prompt_number": 1
    },
    {
     "cell_type": "code",
     "collapsed": false,
     "input": [
      "train = pd.read_csv(\"train.csv\")\n",
      "test = pd.read_csv(\"test.csv\")"
     ],
     "language": "python",
     "metadata": {},
     "outputs": [],
     "prompt_number": 2
    },
    {
     "cell_type": "code",
     "collapsed": false,
     "input": [
      "train.shape"
     ],
     "language": "python",
     "metadata": {},
     "outputs": [
      {
       "metadata": {},
       "output_type": "pyout",
       "prompt_number": 3,
       "text": [
        "(8523, 12)"
       ]
      }
     ],
     "prompt_number": 3
    },
    {
     "cell_type": "code",
     "collapsed": false,
     "input": [
      "test.shape"
     ],
     "language": "python",
     "metadata": {},
     "outputs": [
      {
       "metadata": {},
       "output_type": "pyout",
       "prompt_number": 4,
       "text": [
        "(5681, 11)"
       ]
      }
     ],
     "prompt_number": 4
    },
    {
     "cell_type": "code",
     "collapsed": false,
     "input": [
      "train[\"source\"] = \"train\"\n",
      "test[\"source\"] = \"test\"\n",
      "data = pd.concat([train, test], ignore_index=True)\n",
      "data.shape"
     ],
     "language": "python",
     "metadata": {},
     "outputs": [
      {
       "metadata": {},
       "output_type": "pyout",
       "prompt_number": 5,
       "text": [
        "(14204, 13)"
       ]
      }
     ],
     "prompt_number": 5
    },
    {
     "cell_type": "code",
     "collapsed": false,
     "input": [
      "data.head()"
     ],
     "language": "python",
     "metadata": {},
     "outputs": [
      {
       "html": [
        "<div style=\"max-width:1500px;overflow:auto;\">\n",
        "<table border=\"1\" class=\"dataframe\">\n",
        "  <thead>\n",
        "    <tr style=\"text-align: right;\">\n",
        "      <th></th>\n",
        "      <th>Item_Fat_Content</th>\n",
        "      <th>Item_Identifier</th>\n",
        "      <th>Item_MRP</th>\n",
        "      <th>Item_Outlet_Sales</th>\n",
        "      <th>Item_Type</th>\n",
        "      <th>Item_Visibility</th>\n",
        "      <th>Item_Weight</th>\n",
        "      <th>Outlet_Establishment_Year</th>\n",
        "      <th>Outlet_Identifier</th>\n",
        "      <th>Outlet_Location_Type</th>\n",
        "      <th>Outlet_Size</th>\n",
        "      <th>Outlet_Type</th>\n",
        "      <th>source</th>\n",
        "    </tr>\n",
        "  </thead>\n",
        "  <tbody>\n",
        "    <tr>\n",
        "      <th>0</th>\n",
        "      <td>Low Fat</td>\n",
        "      <td>FDA15</td>\n",
        "      <td>249.8092</td>\n",
        "      <td>3735.1380</td>\n",
        "      <td>Dairy</td>\n",
        "      <td>0.016047</td>\n",
        "      <td>9.30</td>\n",
        "      <td>1999</td>\n",
        "      <td>OUT049</td>\n",
        "      <td>Tier 1</td>\n",
        "      <td>Medium</td>\n",
        "      <td>Supermarket Type1</td>\n",
        "      <td>train</td>\n",
        "    </tr>\n",
        "    <tr>\n",
        "      <th>1</th>\n",
        "      <td>Regular</td>\n",
        "      <td>DRC01</td>\n",
        "      <td>48.2692</td>\n",
        "      <td>443.4228</td>\n",
        "      <td>Soft Drinks</td>\n",
        "      <td>0.019278</td>\n",
        "      <td>5.92</td>\n",
        "      <td>2009</td>\n",
        "      <td>OUT018</td>\n",
        "      <td>Tier 3</td>\n",
        "      <td>Medium</td>\n",
        "      <td>Supermarket Type2</td>\n",
        "      <td>train</td>\n",
        "    </tr>\n",
        "    <tr>\n",
        "      <th>2</th>\n",
        "      <td>Low Fat</td>\n",
        "      <td>FDN15</td>\n",
        "      <td>141.6180</td>\n",
        "      <td>2097.2700</td>\n",
        "      <td>Meat</td>\n",
        "      <td>0.016760</td>\n",
        "      <td>17.50</td>\n",
        "      <td>1999</td>\n",
        "      <td>OUT049</td>\n",
        "      <td>Tier 1</td>\n",
        "      <td>Medium</td>\n",
        "      <td>Supermarket Type1</td>\n",
        "      <td>train</td>\n",
        "    </tr>\n",
        "    <tr>\n",
        "      <th>3</th>\n",
        "      <td>Regular</td>\n",
        "      <td>FDX07</td>\n",
        "      <td>182.0950</td>\n",
        "      <td>732.3800</td>\n",
        "      <td>Fruits and Vegetables</td>\n",
        "      <td>0.000000</td>\n",
        "      <td>19.20</td>\n",
        "      <td>1998</td>\n",
        "      <td>OUT010</td>\n",
        "      <td>Tier 3</td>\n",
        "      <td>NaN</td>\n",
        "      <td>Grocery Store</td>\n",
        "      <td>train</td>\n",
        "    </tr>\n",
        "    <tr>\n",
        "      <th>4</th>\n",
        "      <td>Low Fat</td>\n",
        "      <td>NCD19</td>\n",
        "      <td>53.8614</td>\n",
        "      <td>994.7052</td>\n",
        "      <td>Household</td>\n",
        "      <td>0.000000</td>\n",
        "      <td>8.93</td>\n",
        "      <td>1987</td>\n",
        "      <td>OUT013</td>\n",
        "      <td>Tier 3</td>\n",
        "      <td>High</td>\n",
        "      <td>Supermarket Type1</td>\n",
        "      <td>train</td>\n",
        "    </tr>\n",
        "  </tbody>\n",
        "</table>\n",
        "</div>"
       ],
       "metadata": {},
       "output_type": "pyout",
       "prompt_number": 6,
       "text": [
        "  Item_Fat_Content Item_Identifier  Item_MRP  Item_Outlet_Sales  \\\n",
        "0          Low Fat           FDA15  249.8092          3735.1380   \n",
        "1          Regular           DRC01   48.2692           443.4228   \n",
        "2          Low Fat           FDN15  141.6180          2097.2700   \n",
        "3          Regular           FDX07  182.0950           732.3800   \n",
        "4          Low Fat           NCD19   53.8614           994.7052   \n",
        "\n",
        "               Item_Type  Item_Visibility  Item_Weight  \\\n",
        "0                  Dairy         0.016047         9.30   \n",
        "1            Soft Drinks         0.019278         5.92   \n",
        "2                   Meat         0.016760        17.50   \n",
        "3  Fruits and Vegetables         0.000000        19.20   \n",
        "4              Household         0.000000         8.93   \n",
        "\n",
        "   Outlet_Establishment_Year Outlet_Identifier Outlet_Location_Type  \\\n",
        "0                       1999            OUT049               Tier 1   \n",
        "1                       2009            OUT018               Tier 3   \n",
        "2                       1999            OUT049               Tier 1   \n",
        "3                       1998            OUT010               Tier 3   \n",
        "4                       1987            OUT013               Tier 3   \n",
        "\n",
        "  Outlet_Size        Outlet_Type source  \n",
        "0      Medium  Supermarket Type1  train  \n",
        "1      Medium  Supermarket Type2  train  \n",
        "2      Medium  Supermarket Type1  train  \n",
        "3         NaN      Grocery Store  train  \n",
        "4        High  Supermarket Type1  train  "
       ]
      }
     ],
     "prompt_number": 6
    },
    {
     "cell_type": "code",
     "collapsed": false,
     "input": [
      "data.apply(lambda x: len(x.unique()))"
     ],
     "language": "python",
     "metadata": {},
     "outputs": [
      {
       "metadata": {},
       "output_type": "pyout",
       "prompt_number": 7,
       "text": [
        "Item_Fat_Content                 5\n",
        "Item_Identifier               1559\n",
        "Item_MRP                      8052\n",
        "Item_Outlet_Sales             3494\n",
        "Item_Type                       16\n",
        "Item_Visibility              13006\n",
        "Item_Weight                    416\n",
        "Outlet_Establishment_Year        9\n",
        "Outlet_Identifier               10\n",
        "Outlet_Location_Type             3\n",
        "Outlet_Size                      4\n",
        "Outlet_Type                      4\n",
        "source                           2\n",
        "dtype: int64"
       ]
      }
     ],
     "prompt_number": 7
    },
    {
     "cell_type": "code",
     "collapsed": false,
     "input": [
      "data.describe()"
     ],
     "language": "python",
     "metadata": {},
     "outputs": [
      {
       "html": [
        "<div style=\"max-width:1500px;overflow:auto;\">\n",
        "<table border=\"1\" class=\"dataframe\">\n",
        "  <thead>\n",
        "    <tr style=\"text-align: right;\">\n",
        "      <th></th>\n",
        "      <th>Item_MRP</th>\n",
        "      <th>Item_Outlet_Sales</th>\n",
        "      <th>Item_Visibility</th>\n",
        "      <th>Item_Weight</th>\n",
        "      <th>Outlet_Establishment_Year</th>\n",
        "    </tr>\n",
        "  </thead>\n",
        "  <tbody>\n",
        "    <tr>\n",
        "      <th>count</th>\n",
        "      <td>14204.000000</td>\n",
        "      <td>8523.000000</td>\n",
        "      <td>14204.000000</td>\n",
        "      <td>11765.000000</td>\n",
        "      <td>14204.000000</td>\n",
        "    </tr>\n",
        "    <tr>\n",
        "      <th>mean</th>\n",
        "      <td>141.004977</td>\n",
        "      <td>2181.288914</td>\n",
        "      <td>0.065953</td>\n",
        "      <td>12.792854</td>\n",
        "      <td>1997.830681</td>\n",
        "    </tr>\n",
        "    <tr>\n",
        "      <th>std</th>\n",
        "      <td>62.086938</td>\n",
        "      <td>1706.499616</td>\n",
        "      <td>0.051459</td>\n",
        "      <td>4.652502</td>\n",
        "      <td>8.371664</td>\n",
        "    </tr>\n",
        "    <tr>\n",
        "      <th>min</th>\n",
        "      <td>31.290000</td>\n",
        "      <td>33.290000</td>\n",
        "      <td>0.000000</td>\n",
        "      <td>4.555000</td>\n",
        "      <td>1985.000000</td>\n",
        "    </tr>\n",
        "    <tr>\n",
        "      <th>25%</th>\n",
        "      <td>94.012000</td>\n",
        "      <td>834.247400</td>\n",
        "      <td>0.027036</td>\n",
        "      <td>8.710000</td>\n",
        "      <td>1987.000000</td>\n",
        "    </tr>\n",
        "    <tr>\n",
        "      <th>50%</th>\n",
        "      <td>142.247000</td>\n",
        "      <td>1794.331000</td>\n",
        "      <td>0.054021</td>\n",
        "      <td>12.600000</td>\n",
        "      <td>1999.000000</td>\n",
        "    </tr>\n",
        "    <tr>\n",
        "      <th>75%</th>\n",
        "      <td>185.855600</td>\n",
        "      <td>3101.296400</td>\n",
        "      <td>0.094037</td>\n",
        "      <td>16.750000</td>\n",
        "      <td>2004.000000</td>\n",
        "    </tr>\n",
        "    <tr>\n",
        "      <th>max</th>\n",
        "      <td>266.888400</td>\n",
        "      <td>13086.964800</td>\n",
        "      <td>0.328391</td>\n",
        "      <td>21.350000</td>\n",
        "      <td>2009.000000</td>\n",
        "    </tr>\n",
        "  </tbody>\n",
        "</table>\n",
        "</div>"
       ],
       "metadata": {},
       "output_type": "pyout",
       "prompt_number": 8,
       "text": [
        "           Item_MRP  Item_Outlet_Sales  Item_Visibility   Item_Weight  \\\n",
        "count  14204.000000        8523.000000     14204.000000  11765.000000   \n",
        "mean     141.004977        2181.288914         0.065953     12.792854   \n",
        "std       62.086938        1706.499616         0.051459      4.652502   \n",
        "min       31.290000          33.290000         0.000000      4.555000   \n",
        "25%       94.012000         834.247400         0.027036      8.710000   \n",
        "50%      142.247000        1794.331000         0.054021     12.600000   \n",
        "75%      185.855600        3101.296400         0.094037     16.750000   \n",
        "max      266.888400       13086.964800         0.328391     21.350000   \n",
        "\n",
        "       Outlet_Establishment_Year  \n",
        "count               14204.000000  \n",
        "mean                 1997.830681  \n",
        "std                     8.371664  \n",
        "min                  1985.000000  \n",
        "25%                  1987.000000  \n",
        "50%                  1999.000000  \n",
        "75%                  2004.000000  \n",
        "max                  2009.000000  "
       ]
      }
     ],
     "prompt_number": 8
    },
    {
     "cell_type": "code",
     "collapsed": false,
     "input": [
      "data.apply(lambda x: sum(x.isnull()),axis=0)"
     ],
     "language": "python",
     "metadata": {},
     "outputs": [
      {
       "metadata": {},
       "output_type": "pyout",
       "prompt_number": 9,
       "text": [
        "Item_Fat_Content                0\n",
        "Item_Identifier                 0\n",
        "Item_MRP                        0\n",
        "Item_Outlet_Sales            5681\n",
        "Item_Type                       0\n",
        "Item_Visibility                 0\n",
        "Item_Weight                  2439\n",
        "Outlet_Establishment_Year       0\n",
        "Outlet_Identifier               0\n",
        "Outlet_Location_Type            0\n",
        "Outlet_Size                  4016\n",
        "Outlet_Type                     0\n",
        "source                          0\n",
        "dtype: int64"
       ]
      }
     ],
     "prompt_number": 9
    },
    {
     "cell_type": "code",
     "collapsed": false,
     "input": [
      "data.dtypes"
     ],
     "language": "python",
     "metadata": {},
     "outputs": [
      {
       "metadata": {},
       "output_type": "pyout",
       "prompt_number": 10,
       "text": [
        "Item_Fat_Content              object\n",
        "Item_Identifier               object\n",
        "Item_MRP                     float64\n",
        "Item_Outlet_Sales            float64\n",
        "Item_Type                     object\n",
        "Item_Visibility              float64\n",
        "Item_Weight                  float64\n",
        "Outlet_Establishment_Year      int64\n",
        "Outlet_Identifier             object\n",
        "Outlet_Location_Type          object\n",
        "Outlet_Size                   object\n",
        "Outlet_Type                   object\n",
        "source                        object\n",
        "dtype: object"
       ]
      }
     ],
     "prompt_number": 10
    },
    {
     "cell_type": "code",
     "collapsed": false,
     "input": [
      "data.dtypes.index"
     ],
     "language": "python",
     "metadata": {},
     "outputs": [
      {
       "metadata": {},
       "output_type": "pyout",
       "prompt_number": 11,
       "text": [
        "Index([u'Item_Fat_Content', u'Item_Identifier', u'Item_MRP',\n",
        "       u'Item_Outlet_Sales', u'Item_Type', u'Item_Visibility', u'Item_Weight',\n",
        "       u'Outlet_Establishment_Year', u'Outlet_Identifier',\n",
        "       u'Outlet_Location_Type', u'Outlet_Size', u'Outlet_Type', u'source'],\n",
        "      dtype='object')"
       ]
      }
     ],
     "prompt_number": 11
    },
    {
     "cell_type": "code",
     "collapsed": false,
     "input": [
      "categorical_columns = [i for i in data.columns if data.dtypes[i]==\"object\"]"
     ],
     "language": "python",
     "metadata": {},
     "outputs": [],
     "prompt_number": 12
    },
    {
     "cell_type": "code",
     "collapsed": false,
     "input": [
      "categorical_columns"
     ],
     "language": "python",
     "metadata": {},
     "outputs": [
      {
       "metadata": {},
       "output_type": "pyout",
       "prompt_number": 13,
       "text": [
        "['Item_Fat_Content',\n",
        " 'Item_Identifier',\n",
        " 'Item_Type',\n",
        " 'Outlet_Identifier',\n",
        " 'Outlet_Location_Type',\n",
        " 'Outlet_Size',\n",
        " 'Outlet_Type',\n",
        " 'source']"
       ]
      }
     ],
     "prompt_number": 13
    },
    {
     "cell_type": "code",
     "collapsed": false,
     "input": [
      "categorical_columns = [i for i in data.columns if data.dtypes[i]==\"object\"]"
     ],
     "language": "python",
     "metadata": {},
     "outputs": [],
     "prompt_number": 14
    },
    {
     "cell_type": "markdown",
     "metadata": {},
     "source": [
      "categorical_columns"
     ]
    },
    {
     "cell_type": "code",
     "collapsed": false,
     "input": [
      "categorical_columns"
     ],
     "language": "python",
     "metadata": {},
     "outputs": [
      {
       "metadata": {},
       "output_type": "pyout",
       "prompt_number": 15,
       "text": [
        "['Item_Fat_Content',\n",
        " 'Item_Identifier',\n",
        " 'Item_Type',\n",
        " 'Outlet_Identifier',\n",
        " 'Outlet_Location_Type',\n",
        " 'Outlet_Size',\n",
        " 'Outlet_Type',\n",
        " 'source']"
       ]
      }
     ],
     "prompt_number": 15
    },
    {
     "cell_type": "code",
     "collapsed": false,
     "input": [
      "categorical_columns = [x for x in categorical_columns if x not in ['Item_Identifier','Outlet_Identifier','source']]"
     ],
     "language": "python",
     "metadata": {},
     "outputs": [],
     "prompt_number": 16
    },
    {
     "cell_type": "code",
     "collapsed": false,
     "input": [
      "categorical_columns"
     ],
     "language": "python",
     "metadata": {},
     "outputs": [
      {
       "metadata": {},
       "output_type": "pyout",
       "prompt_number": 17,
       "text": [
        "['Item_Fat_Content',\n",
        " 'Item_Type',\n",
        " 'Outlet_Location_Type',\n",
        " 'Outlet_Size',\n",
        " 'Outlet_Type']"
       ]
      }
     ],
     "prompt_number": 17
    },
    {
     "cell_type": "code",
     "collapsed": false,
     "input": [
      "for c in categorical_columns:\n",
      "    print \"column name is \", c\n",
      "    print data[c].value_counts()"
     ],
     "language": "python",
     "metadata": {},
     "outputs": [
      {
       "output_type": "stream",
       "stream": "stdout",
       "text": [
        "column name is  Item_Fat_Content\n",
        "Low Fat    8485\n",
        "Regular    4824\n",
        "LF          522\n",
        "reg         195\n",
        "low fat     178\n",
        "Name: Item_Fat_Content, dtype: int64\n",
        "column name is  Item_Type\n",
        "Fruits and Vegetables    2013\n",
        "Snack Foods              1989\n",
        "Household                1548\n",
        "Frozen Foods             1426\n",
        "Dairy                    1136\n",
        "Baking Goods             1086\n",
        "Canned                   1084\n",
        "Health and Hygiene        858\n",
        "Meat                      736\n",
        "Soft Drinks               726\n",
        "Breads                    416\n",
        "Hard Drinks               362\n",
        "Others                    280\n",
        "Starchy Foods             269\n",
        "Breakfast                 186\n",
        "Seafood                    89\n",
        "Name: Item_Type, dtype: int64\n",
        "column name is  Outlet_Location_Type\n",
        "Tier 3    5583\n",
        "Tier 2    4641\n",
        "Tier 1    3980\n",
        "Name: Outlet_Location_Type, dtype: int64\n",
        "column name is  Outlet_Size\n",
        "Medium    4655\n",
        "Small     3980\n",
        "High      1553\n",
        "Name: Outlet_Size, dtype: int64\n",
        "column name is  Outlet_Type\n",
        "Supermarket Type1    9294\n",
        "Grocery Store        1805\n",
        "Supermarket Type3    1559\n",
        "Supermarket Type2    1546\n",
        "Name: Outlet_Type, dtype: int64\n"
       ]
      }
     ],
     "prompt_number": 18
    },
    {
     "cell_type": "code",
     "collapsed": false,
     "input": [
      "data['Item_Identifier'].value_counts()"
     ],
     "language": "python",
     "metadata": {},
     "outputs": [
      {
       "metadata": {},
       "output_type": "pyout",
       "prompt_number": 19,
       "text": [
        "NCK18    10\n",
        "FDL46    10\n",
        "DRH39    10\n",
        "FDX50    10\n",
        "FDO01    10\n",
        "FDL40    10\n",
        "FDG10    10\n",
        "NCG18    10\n",
        "FDS25    10\n",
        "FDO08    10\n",
        "NCF54    10\n",
        "DRL49    10\n",
        "FDT13    10\n",
        "NCC06    10\n",
        "FDG33    10\n",
        "NCX05    10\n",
        "NCV41    10\n",
        "NCT18    10\n",
        "FDN03    10\n",
        "DRG37    10\n",
        "FDM39    10\n",
        "FDP15    10\n",
        "FDB20    10\n",
        "DRH37    10\n",
        "FDQ47    10\n",
        "FDB23    10\n",
        "FDQ45    10\n",
        "FDA49    10\n",
        "FDQ28    10\n",
        "FDQ49    10\n",
        "         ..\n",
        "NCL29     8\n",
        "FDR55     8\n",
        "NCS18     8\n",
        "NCE55     8\n",
        "FDD52     8\n",
        "FDV33     8\n",
        "FDU19     8\n",
        "FDW52     8\n",
        "DRN59     8\n",
        "FDI52     8\n",
        "NCS17     8\n",
        "FDW37     8\n",
        "FDI57     8\n",
        "FDY44     8\n",
        "NCU06     8\n",
        "FDG14     8\n",
        "DRB24     8\n",
        "FDR51     7\n",
        "FDM10     7\n",
        "FDI46     7\n",
        "FDM50     7\n",
        "FDM52     7\n",
        "NCW54     7\n",
        "NCL42     7\n",
        "FDH58     7\n",
        "FDS22     7\n",
        "FDX49     7\n",
        "DRN11     7\n",
        "FDO33     7\n",
        "FDL50     7\n",
        "Name: Item_Identifier, dtype: int64"
       ]
      }
     ],
     "prompt_number": 19
    },
    {
     "cell_type": "code",
     "collapsed": false,
     "input": [
      "item_avg_weight = data.pivot_table(values=\"Item_Weight\", index=\"Item_Identifier\")"
     ],
     "language": "python",
     "metadata": {},
     "outputs": [],
     "prompt_number": 20
    },
    {
     "cell_type": "code",
     "collapsed": false,
     "input": [
      "item_avg_weight = data.pivot_table(values='Item_Weight', index=['Item_Identifier'])"
     ],
     "language": "python",
     "metadata": {},
     "outputs": [],
     "prompt_number": 21
    },
    {
     "cell_type": "code",
     "collapsed": false,
     "input": [
      "sum(data[\"Item_Weight\"].isnull())"
     ],
     "language": "python",
     "metadata": {},
     "outputs": [
      {
       "metadata": {},
       "output_type": "pyout",
       "prompt_number": 22,
       "text": [
        "2439"
       ]
      }
     ],
     "prompt_number": 22
    },
    {
     "cell_type": "code",
     "collapsed": false,
     "input": [],
     "language": "python",
     "metadata": {},
     "outputs": [],
     "prompt_number": 22
    },
    {
     "cell_type": "code",
     "collapsed": false,
     "input": [
      "item_avg_weight = pd.pivot_table(data, values='Item_Weight', index=['Item_Identifier'])"
     ],
     "language": "python",
     "metadata": {},
     "outputs": [],
     "prompt_number": 23
    },
    {
     "cell_type": "code",
     "collapsed": false,
     "input": [
      "item_avg_weight = data.pivot_table(values='Item_Weight', index='Item_Identifier')"
     ],
     "language": "python",
     "metadata": {},
     "outputs": [],
     "prompt_number": 24
    },
    {
     "cell_type": "code",
     "collapsed": false,
     "input": [],
     "language": "python",
     "metadata": {},
     "outputs": [],
     "prompt_number": 24
    },
    {
     "cell_type": "code",
     "collapsed": false,
     "input": [],
     "language": "python",
     "metadata": {},
     "outputs": [],
     "prompt_number": 24
    },
    {
     "cell_type": "code",
     "collapsed": false,
     "input": [
      "import datetime"
     ],
     "language": "python",
     "metadata": {},
     "outputs": [],
     "prompt_number": 25
    },
    {
     "cell_type": "code",
     "collapsed": false,
     "input": [],
     "language": "python",
     "metadata": {},
     "outputs": [],
     "prompt_number": 25
    },
    {
     "cell_type": "code",
     "collapsed": false,
     "input": [],
     "language": "python",
     "metadata": {},
     "outputs": [],
     "prompt_number": 25
    },
    {
     "cell_type": "code",
     "collapsed": false,
     "input": [
      "pd.pivot_table(df, values='D', index=['A', 'B'], columns=['C'])"
     ],
     "language": "python",
     "metadata": {},
     "outputs": [
      {
       "ename": "NameError",
       "evalue": "name 'df' is not defined",
       "output_type": "pyerr",
       "traceback": [
        "\u001b[0;31m---------------------------------------------------------------------------\u001b[0m\n\u001b[0;31mNameError\u001b[0m                                 Traceback (most recent call last)",
        "\u001b[0;32m<ipython-input-26-e89ea23b115f>\u001b[0m in \u001b[0;36m<module>\u001b[0;34m()\u001b[0m\n\u001b[0;32m----> 1\u001b[0;31m \u001b[0mpd\u001b[0m\u001b[0;34m.\u001b[0m\u001b[0mpivot_table\u001b[0m\u001b[0;34m(\u001b[0m\u001b[0mdf\u001b[0m\u001b[0;34m,\u001b[0m \u001b[0mvalues\u001b[0m\u001b[0;34m=\u001b[0m\u001b[0;34m'D'\u001b[0m\u001b[0;34m,\u001b[0m \u001b[0mindex\u001b[0m\u001b[0;34m=\u001b[0m\u001b[0;34m[\u001b[0m\u001b[0;34m'A'\u001b[0m\u001b[0;34m,\u001b[0m \u001b[0;34m'B'\u001b[0m\u001b[0;34m]\u001b[0m\u001b[0;34m,\u001b[0m \u001b[0mcolumns\u001b[0m\u001b[0;34m=\u001b[0m\u001b[0;34m[\u001b[0m\u001b[0;34m'C'\u001b[0m\u001b[0;34m]\u001b[0m\u001b[0;34m)\u001b[0m\u001b[0;34m\u001b[0m\u001b[0m\n\u001b[0m",
        "\u001b[0;31mNameError\u001b[0m: name 'df' is not defined"
       ]
      }
     ],
     "prompt_number": 26
    },
    {
     "cell_type": "code",
     "collapsed": false,
     "input": [
      "pd.__version__"
     ],
     "language": "python",
     "metadata": {},
     "outputs": [
      {
       "metadata": {},
       "output_type": "pyout",
       "prompt_number": 27,
       "text": [
        "u'0.19.2'"
       ]
      }
     ],
     "prompt_number": 27
    },
    {
     "cell_type": "code",
     "collapsed": false,
     "input": [
      "miss_bool = data['Item_Weight'].isnull() "
     ],
     "language": "python",
     "metadata": {},
     "outputs": [],
     "prompt_number": 28
    },
    {
     "cell_type": "code",
     "collapsed": false,
     "input": [
      "sum(miss_bool)"
     ],
     "language": "python",
     "metadata": {},
     "outputs": [
      {
       "metadata": {},
       "output_type": "pyout",
       "prompt_number": 29,
       "text": [
        "2439"
       ]
      }
     ],
     "prompt_number": 29
    },
    {
     "cell_type": "code",
     "collapsed": false,
     "input": [
      "type(miss_bool)"
     ],
     "language": "python",
     "metadata": {},
     "outputs": [
      {
       "metadata": {},
       "output_type": "pyout",
       "prompt_number": 30,
       "text": [
        "pandas.core.series.Series"
       ]
      }
     ],
     "prompt_number": 30
    },
    {
     "cell_type": "code",
     "collapsed": false,
     "input": [
      "pd.pivot_table(df, values='D', index=['A', 'B'], columns=['C'])"
     ],
     "language": "python",
     "metadata": {},
     "outputs": [
      {
       "ename": "NameError",
       "evalue": "name 'df' is not defined",
       "output_type": "pyerr",
       "traceback": [
        "\u001b[0;31m---------------------------------------------------------------------------\u001b[0m\n\u001b[0;31mNameError\u001b[0m                                 Traceback (most recent call last)",
        "\u001b[0;32m<ipython-input-31-e89ea23b115f>\u001b[0m in \u001b[0;36m<module>\u001b[0;34m()\u001b[0m\n\u001b[0;32m----> 1\u001b[0;31m \u001b[0mpd\u001b[0m\u001b[0;34m.\u001b[0m\u001b[0mpivot_table\u001b[0m\u001b[0;34m(\u001b[0m\u001b[0mdf\u001b[0m\u001b[0;34m,\u001b[0m \u001b[0mvalues\u001b[0m\u001b[0;34m=\u001b[0m\u001b[0;34m'D'\u001b[0m\u001b[0;34m,\u001b[0m \u001b[0mindex\u001b[0m\u001b[0;34m=\u001b[0m\u001b[0;34m[\u001b[0m\u001b[0;34m'A'\u001b[0m\u001b[0;34m,\u001b[0m \u001b[0;34m'B'\u001b[0m\u001b[0;34m]\u001b[0m\u001b[0;34m,\u001b[0m \u001b[0mcolumns\u001b[0m\u001b[0;34m=\u001b[0m\u001b[0;34m[\u001b[0m\u001b[0;34m'C'\u001b[0m\u001b[0;34m]\u001b[0m\u001b[0;34m)\u001b[0m\u001b[0;34m\u001b[0m\u001b[0m\n\u001b[0m",
        "\u001b[0;31mNameError\u001b[0m: name 'df' is not defined"
       ]
      }
     ],
     "prompt_number": 31
    },
    {
     "cell_type": "code",
     "collapsed": false,
     "input": [
      "import pandas as pd"
     ],
     "language": "python",
     "metadata": {},
     "outputs": [],
     "prompt_number": 32
    },
    {
     "cell_type": "code",
     "collapsed": false,
     "input": [
      "pd.__version__\n"
     ],
     "language": "python",
     "metadata": {},
     "outputs": [
      {
       "metadata": {},
       "output_type": "pyout",
       "prompt_number": 33,
       "text": [
        "u'0.19.2'"
       ]
      }
     ],
     "prompt_number": 33
    },
    {
     "cell_type": "code",
     "collapsed": false,
     "input": [
      "from IPython.nbformat import current as nbformat\n",
      "from IPython.nbconvert import PythonExporter"
     ],
     "language": "python",
     "metadata": {},
     "outputs": [],
     "prompt_number": 34
    },
    {
     "cell_type": "code",
     "collapsed": false,
     "input": [
      "pd.__version__"
     ],
     "language": "python",
     "metadata": {},
     "outputs": [
      {
       "metadata": {},
       "output_type": "pyout",
       "prompt_number": 35,
       "text": [
        "u'0.19.2'"
       ]
      }
     ],
     "prompt_number": 35
    },
    {
     "cell_type": "code",
     "collapsed": false,
     "input": [
      "import pandas as pd\n"
     ],
     "language": "python",
     "metadata": {},
     "outputs": [],
     "prompt_number": 36
    },
    {
     "cell_type": "code",
     "collapsed": false,
     "input": [
      "pd.__version__"
     ],
     "language": "python",
     "metadata": {},
     "outputs": [
      {
       "metadata": {},
       "output_type": "pyout",
       "prompt_number": 37,
       "text": [
        "u'0.19.2'"
       ]
      }
     ],
     "prompt_number": 37
    },
    {
     "cell_type": "code",
     "collapsed": false,
     "input": [
      "import numpy as np\n",
      "import datetime"
     ],
     "language": "python",
     "metadata": {},
     "outputs": [],
     "prompt_number": 38
    },
    {
     "cell_type": "code",
     "collapsed": false,
     "input": [
      "#Determine the average weight per item:\n",
      "item_avg_weight = data.pivot_table(values='Item_Weight', index='Item_Identifier')"
     ],
     "language": "python",
     "metadata": {},
     "outputs": [],
     "prompt_number": 39
    },
    {
     "cell_type": "code",
     "collapsed": false,
     "input": [
      "sum(data[\"Item_Weight\"].isnull())"
     ],
     "language": "python",
     "metadata": {},
     "outputs": [
      {
       "metadata": {},
       "output_type": "pyout",
       "prompt_number": 40,
       "text": [
        "2439"
       ]
      }
     ],
     "prompt_number": 40
    },
    {
     "cell_type": "code",
     "collapsed": false,
     "input": [
      "len(item_avg_weight)"
     ],
     "language": "python",
     "metadata": {},
     "outputs": [
      {
       "metadata": {},
       "output_type": "pyout",
       "prompt_number": 41,
       "text": [
        "1559"
       ]
      }
     ],
     "prompt_number": 41
    },
    {
     "cell_type": "code",
     "collapsed": false,
     "input": [
      "data.loc[miss_bool,'Item_Weight'] = data.loc[miss_bool,'Item_Identifier'].apply(lambda x: item_avg_weight[x])"
     ],
     "language": "python",
     "metadata": {},
     "outputs": [],
     "prompt_number": 42
    },
    {
     "cell_type": "code",
     "collapsed": false,
     "input": [
      "sum(data['Item_Weight'].isnull())"
     ],
     "language": "python",
     "metadata": {},
     "outputs": [
      {
       "metadata": {},
       "output_type": "pyout",
       "prompt_number": 43,
       "text": [
        "0"
       ]
      }
     ],
     "prompt_number": 43
    },
    {
     "cell_type": "code",
     "collapsed": false,
     "input": [
      "from scipy.stats import mode"
     ],
     "language": "python",
     "metadata": {},
     "outputs": [],
     "prompt_number": 44
    },
    {
     "cell_type": "code",
     "collapsed": false,
     "input": [
      "data[\"Item_Weight\"].head()\n",
      "\n"
     ],
     "language": "python",
     "metadata": {},
     "outputs": [
      {
       "metadata": {},
       "output_type": "pyout",
       "prompt_number": 45,
       "text": [
        "0     9.30\n",
        "1     5.92\n",
        "2    17.50\n",
        "3    19.20\n",
        "4     8.93\n",
        "Name: Item_Weight, dtype: float64"
       ]
      }
     ],
     "prompt_number": 45
    },
    {
     "cell_type": "code",
     "collapsed": false,
     "input": [
      "outlet_size_mode = data.pivot_table(values=\"Outlet_Size\", columns=\"Outlet_Type\",aggfunc=(lambda x:mode(x).mode[0]))\n",
      "outlet_size_mode[\"Grocery Store\"]"
     ],
     "language": "python",
     "metadata": {},
     "outputs": [
      {
       "metadata": {},
       "output_type": "pyout",
       "prompt_number": 55,
       "text": [
        "'Small'"
       ]
      }
     ],
     "prompt_number": 55
    },
    {
     "cell_type": "code",
     "collapsed": false,
     "input": [
      "miss_bool = data['Outlet_Size'].isnull()"
     ],
     "language": "python",
     "metadata": {},
     "outputs": [],
     "prompt_number": 59
    },
    {
     "cell_type": "code",
     "collapsed": false,
     "input": [
      "data.loc[miss_bool, 'Outlet_Size'] = data.loc[miss_bool, 'Outlet_Type'].apply(lambda x: outlet_size_mode[x])"
     ],
     "language": "python",
     "metadata": {},
     "outputs": [],
     "prompt_number": 57
    },
    {
     "cell_type": "code",
     "collapsed": false,
     "input": [
      "sum(miss_bool)"
     ],
     "language": "python",
     "metadata": {},
     "outputs": [
      {
       "metadata": {},
       "output_type": "pyout",
       "prompt_number": 60,
       "text": [
        "0"
       ]
      }
     ],
     "prompt_number": 60
    },
    {
     "cell_type": "code",
     "collapsed": false,
     "input": [
      "print sum(data['Outlet_Size'].isnull())"
     ],
     "language": "python",
     "metadata": {},
     "outputs": [
      {
       "output_type": "stream",
       "stream": "stdout",
       "text": [
        "0\n"
       ]
      }
     ],
     "prompt_number": 61
    },
    {
     "cell_type": "code",
     "collapsed": false,
     "input": [
      "data.head()"
     ],
     "language": "python",
     "metadata": {},
     "outputs": [
      {
       "html": [
        "<div style=\"max-width:1500px;overflow:auto;\">\n",
        "<table border=\"1\" class=\"dataframe\">\n",
        "  <thead>\n",
        "    <tr style=\"text-align: right;\">\n",
        "      <th></th>\n",
        "      <th>Item_Fat_Content</th>\n",
        "      <th>Item_Identifier</th>\n",
        "      <th>Item_MRP</th>\n",
        "      <th>Item_Outlet_Sales</th>\n",
        "      <th>Item_Type</th>\n",
        "      <th>Item_Visibility</th>\n",
        "      <th>Item_Weight</th>\n",
        "      <th>Outlet_Establishment_Year</th>\n",
        "      <th>Outlet_Identifier</th>\n",
        "      <th>Outlet_Location_Type</th>\n",
        "      <th>Outlet_Size</th>\n",
        "      <th>Outlet_Type</th>\n",
        "      <th>source</th>\n",
        "    </tr>\n",
        "  </thead>\n",
        "  <tbody>\n",
        "    <tr>\n",
        "      <th>0</th>\n",
        "      <td>Low Fat</td>\n",
        "      <td>FDA15</td>\n",
        "      <td>249.8092</td>\n",
        "      <td>3735.1380</td>\n",
        "      <td>Dairy</td>\n",
        "      <td>0.016047</td>\n",
        "      <td>9.30</td>\n",
        "      <td>1999</td>\n",
        "      <td>OUT049</td>\n",
        "      <td>Tier 1</td>\n",
        "      <td>Medium</td>\n",
        "      <td>Supermarket Type1</td>\n",
        "      <td>train</td>\n",
        "    </tr>\n",
        "    <tr>\n",
        "      <th>1</th>\n",
        "      <td>Regular</td>\n",
        "      <td>DRC01</td>\n",
        "      <td>48.2692</td>\n",
        "      <td>443.4228</td>\n",
        "      <td>Soft Drinks</td>\n",
        "      <td>0.019278</td>\n",
        "      <td>5.92</td>\n",
        "      <td>2009</td>\n",
        "      <td>OUT018</td>\n",
        "      <td>Tier 3</td>\n",
        "      <td>Medium</td>\n",
        "      <td>Supermarket Type2</td>\n",
        "      <td>train</td>\n",
        "    </tr>\n",
        "    <tr>\n",
        "      <th>2</th>\n",
        "      <td>Low Fat</td>\n",
        "      <td>FDN15</td>\n",
        "      <td>141.6180</td>\n",
        "      <td>2097.2700</td>\n",
        "      <td>Meat</td>\n",
        "      <td>0.016760</td>\n",
        "      <td>17.50</td>\n",
        "      <td>1999</td>\n",
        "      <td>OUT049</td>\n",
        "      <td>Tier 1</td>\n",
        "      <td>Medium</td>\n",
        "      <td>Supermarket Type1</td>\n",
        "      <td>train</td>\n",
        "    </tr>\n",
        "    <tr>\n",
        "      <th>3</th>\n",
        "      <td>Regular</td>\n",
        "      <td>FDX07</td>\n",
        "      <td>182.0950</td>\n",
        "      <td>732.3800</td>\n",
        "      <td>Fruits and Vegetables</td>\n",
        "      <td>0.000000</td>\n",
        "      <td>19.20</td>\n",
        "      <td>1998</td>\n",
        "      <td>OUT010</td>\n",
        "      <td>Tier 3</td>\n",
        "      <td>Small</td>\n",
        "      <td>Grocery Store</td>\n",
        "      <td>train</td>\n",
        "    </tr>\n",
        "    <tr>\n",
        "      <th>4</th>\n",
        "      <td>Low Fat</td>\n",
        "      <td>NCD19</td>\n",
        "      <td>53.8614</td>\n",
        "      <td>994.7052</td>\n",
        "      <td>Household</td>\n",
        "      <td>0.000000</td>\n",
        "      <td>8.93</td>\n",
        "      <td>1987</td>\n",
        "      <td>OUT013</td>\n",
        "      <td>Tier 3</td>\n",
        "      <td>High</td>\n",
        "      <td>Supermarket Type1</td>\n",
        "      <td>train</td>\n",
        "    </tr>\n",
        "  </tbody>\n",
        "</table>\n",
        "</div>"
       ],
       "metadata": {},
       "output_type": "pyout",
       "prompt_number": 62,
       "text": [
        "  Item_Fat_Content Item_Identifier  Item_MRP  Item_Outlet_Sales  \\\n",
        "0          Low Fat           FDA15  249.8092          3735.1380   \n",
        "1          Regular           DRC01   48.2692           443.4228   \n",
        "2          Low Fat           FDN15  141.6180          2097.2700   \n",
        "3          Regular           FDX07  182.0950           732.3800   \n",
        "4          Low Fat           NCD19   53.8614           994.7052   \n",
        "\n",
        "               Item_Type  Item_Visibility  Item_Weight  \\\n",
        "0                  Dairy         0.016047         9.30   \n",
        "1            Soft Drinks         0.019278         5.92   \n",
        "2                   Meat         0.016760        17.50   \n",
        "3  Fruits and Vegetables         0.000000        19.20   \n",
        "4              Household         0.000000         8.93   \n",
        "\n",
        "   Outlet_Establishment_Year Outlet_Identifier Outlet_Location_Type  \\\n",
        "0                       1999            OUT049               Tier 1   \n",
        "1                       2009            OUT018               Tier 3   \n",
        "2                       1999            OUT049               Tier 1   \n",
        "3                       1998            OUT010               Tier 3   \n",
        "4                       1987            OUT013               Tier 3   \n",
        "\n",
        "  Outlet_Size        Outlet_Type source  \n",
        "0      Medium  Supermarket Type1  train  \n",
        "1      Medium  Supermarket Type2  train  \n",
        "2      Medium  Supermarket Type1  train  \n",
        "3       Small      Grocery Store  train  \n",
        "4        High  Supermarket Type1  train  "
       ]
      }
     ],
     "prompt_number": 62
    },
    {
     "cell_type": "code",
     "collapsed": false,
     "input": [
      "data.pivot_table(values=\"Item_Outlet_Sales\", index=\"Outlet_Type\")\n"
     ],
     "language": "python",
     "metadata": {},
     "outputs": [
      {
       "metadata": {},
       "output_type": "pyout",
       "prompt_number": 63,
       "text": [
        "Outlet_Type\n",
        "Grocery Store         339.828500\n",
        "Supermarket Type1    2316.181148\n",
        "Supermarket Type2    1995.498739\n",
        "Supermarket Type3    3694.038558\n",
        "Name: Item_Outlet_Sales, dtype: float64"
       ]
      }
     ],
     "prompt_number": 63
    },
    {
     "cell_type": "code",
     "collapsed": false,
     "input": [
      "visibility = data.pivot_table(values=\"Item_Visibility\", index=\"Item_Identifier\")\n",
      "visibility"
     ],
     "language": "python",
     "metadata": {},
     "outputs": [
      {
       "metadata": {},
       "output_type": "pyout",
       "prompt_number": 65,
       "text": [
        "Item_Identifier\n",
        "DRA12    0.034938\n",
        "DRA24    0.045646\n",
        "DRA59    0.133384\n",
        "DRB01    0.079736\n",
        "DRB13    0.006799\n",
        "DRB24    0.020596\n",
        "DRB25    0.079407\n",
        "DRB48    0.023973\n",
        "DRC01    0.020653\n",
        "DRC12    0.037862\n",
        "DRC13    0.028408\n",
        "DRC24    0.026913\n",
        "DRC25    0.047354\n",
        "DRC27    0.066423\n",
        "DRC36    0.046932\n",
        "DRC49    0.070950\n",
        "DRD01    0.066330\n",
        "DRD12    0.074150\n",
        "DRD13    0.049125\n",
        "DRD15    0.064930\n",
        "DRD24    0.035205\n",
        "DRD25    0.082385\n",
        "DRD27    0.020545\n",
        "DRD37    0.013352\n",
        "DRD49    0.167987\n",
        "DRD60    0.040369\n",
        "DRE01    0.179808\n",
        "DRE03    0.026061\n",
        "DRE12    0.061981\n",
        "DRE13    0.031673\n",
        "           ...   \n",
        "NCX05    0.110962\n",
        "NCX06    0.017934\n",
        "NCX17    0.113709\n",
        "NCX18    0.008293\n",
        "NCX29    0.101920\n",
        "NCX30    0.025977\n",
        "NCX41    0.017291\n",
        "NCX42    0.006482\n",
        "NCX53    0.014409\n",
        "NCX54    0.051698\n",
        "NCY05    0.059645\n",
        "NCY06    0.065816\n",
        "NCY17    0.126951\n",
        "NCY18    0.033510\n",
        "NCY29    0.088295\n",
        "NCY30    0.028140\n",
        "NCY41    0.086582\n",
        "NCY42    0.016440\n",
        "NCY53    0.056916\n",
        "NCY54    0.191145\n",
        "NCZ05    0.063030\n",
        "NCZ06    0.102096\n",
        "NCZ17    0.076568\n",
        "NCZ18    0.180954\n",
        "NCZ29    0.076774\n",
        "NCZ30    0.027302\n",
        "NCZ41    0.056396\n",
        "NCZ42    0.011015\n",
        "NCZ53    0.026330\n",
        "NCZ54    0.081345\n",
        "Name: Item_Visibility, dtype: float64"
       ]
      }
     ],
     "prompt_number": 65
    },
    {
     "cell_type": "code",
     "collapsed": false,
     "input": [
      "miss_bool = sum(data[\"Item_Visibility\"]==0)\n"
     ],
     "language": "python",
     "metadata": {},
     "outputs": [],
     "prompt_number": 71
    },
    {
     "cell_type": "code",
     "collapsed": false,
     "input": [
      "miss_bool"
     ],
     "language": "python",
     "metadata": {},
     "outputs": [
      {
       "metadata": {},
       "output_type": "pyout",
       "prompt_number": 72,
       "text": [
        "0"
       ]
      }
     ],
     "prompt_number": 72
    },
    {
     "cell_type": "code",
     "collapsed": false,
     "input": [
      "data.loc[miss_bool, \"Item_Visibility\"] = data.loc[miss_bool, \"Item_Identifier\"].apply(lambda x: visibility[x]) "
     ],
     "language": "python",
     "metadata": {},
     "outputs": [],
     "prompt_number": 68
    },
    {
     "cell_type": "code",
     "collapsed": false,
     "input": [
      "sum(data[\"Item_Visibility\"]==0)"
     ],
     "language": "python",
     "metadata": {},
     "outputs": [
      {
       "metadata": {},
       "output_type": "pyout",
       "prompt_number": 74,
       "text": [
        "0"
       ]
      }
     ],
     "prompt_number": 74
    },
    {
     "cell_type": "code",
     "collapsed": false,
     "input": [
      "data[\"Item_Visibility_MeanRatio\"] = data.apply(lambda x: x[\"Item_Visibility\"]/visibility[x[\"Item_Identifier\"]], axis=1)"
     ],
     "language": "python",
     "metadata": {},
     "outputs": [],
     "prompt_number": 75
    },
    {
     "cell_type": "code",
     "collapsed": false,
     "input": [
      "data[\"Item_Visibility_MeanRatio\"].describe()\n"
     ],
     "language": "python",
     "metadata": {},
     "outputs": [
      {
       "metadata": {},
       "output_type": "pyout",
       "prompt_number": 76,
       "text": [
        "count    14204.000000\n",
        "mean         1.061884\n",
        "std          0.235907\n",
        "min          0.844563\n",
        "25%          0.925131\n",
        "50%          0.999070\n",
        "75%          1.042007\n",
        "max          3.010094\n",
        "Name: Item_Visibility_MeanRatio, dtype: float64"
       ]
      }
     ],
     "prompt_number": 76
    },
    {
     "cell_type": "code",
     "collapsed": false,
     "input": [
      "data[\"Item_Type_Combined\"]= data[\"Item_Identifier\"].apply(lambda x: x[0:2])"
     ],
     "language": "python",
     "metadata": {},
     "outputs": [],
     "prompt_number": 77
    },
    {
     "cell_type": "code",
     "collapsed": false,
     "input": [
      "data[\"Item_Type_Combined\"] = data[\"Item_Type_Combined\"].map({\"FD\":\"Food\", \"NC\":\"Non-Consumable\",\"DR\":\"Drinks\"})"
     ],
     "language": "python",
     "metadata": {},
     "outputs": [],
     "prompt_number": 78
    },
    {
     "cell_type": "code",
     "collapsed": false,
     "input": [
      "data[\"Item_Type_Combined\"].value_counts()"
     ],
     "language": "python",
     "metadata": {},
     "outputs": [
      {
       "metadata": {},
       "output_type": "pyout",
       "prompt_number": 79,
       "text": [
        "Food              10201\n",
        "Non-Consumable     2686\n",
        "Drinks             1317\n",
        "Name: Item_Type_Combined, dtype: int64"
       ]
      }
     ],
     "prompt_number": 79
    },
    {
     "cell_type": "code",
     "collapsed": false,
     "input": [
      "data[\"Outlet_Years\"] = 2013 - data[\"Outlet_Establishment_Year\"]"
     ],
     "language": "python",
     "metadata": {},
     "outputs": [],
     "prompt_number": 80
    },
    {
     "cell_type": "code",
     "collapsed": false,
     "input": [
      "data[\"Outlet_Years\"].describe()"
     ],
     "language": "python",
     "metadata": {},
     "outputs": [
      {
       "metadata": {},
       "output_type": "pyout",
       "prompt_number": 81,
       "text": [
        "count    14204.000000\n",
        "mean        15.169319\n",
        "std          8.371664\n",
        "min          4.000000\n",
        "25%          9.000000\n",
        "50%         14.000000\n",
        "75%         26.000000\n",
        "max         28.000000\n",
        "Name: Outlet_Years, dtype: float64"
       ]
      }
     ],
     "prompt_number": 81
    },
    {
     "cell_type": "code",
     "collapsed": false,
     "input": [
      "data['Item_Fat_Content'] = data['Item_Fat_Content'].replace({'LF':'Low Fat','reg':'Regular','low fat':'Low Fat'})"
     ],
     "language": "python",
     "metadata": {},
     "outputs": [],
     "prompt_number": 82
    },
    {
     "cell_type": "code",
     "collapsed": false,
     "input": [
      "data['Item_Fat_Content'].value_counts()"
     ],
     "language": "python",
     "metadata": {},
     "outputs": [
      {
       "metadata": {},
       "output_type": "pyout",
       "prompt_number": 86,
       "text": [
        "Low Fat       6499\n",
        "Regular       5019\n",
        "Non-Edible    2686\n",
        "Name: Item_Fat_Content, dtype: int64"
       ]
      }
     ],
     "prompt_number": 86
    },
    {
     "cell_type": "code",
     "collapsed": false,
     "input": [
      "data.loc[data[\"Item_Type_Combined\"]==\"Non-Consumable\",\"Item_Fat_Content\"] = \"Non-Edible\" "
     ],
     "language": "python",
     "metadata": {},
     "outputs": [],
     "prompt_number": 85
    },
    {
     "cell_type": "code",
     "collapsed": false,
     "input": [
      "from sklearn.preprocessing import LabelEncoder\n",
      "le = LabelEncoder()"
     ],
     "language": "python",
     "metadata": {},
     "outputs": [],
     "prompt_number": 89
    },
    {
     "cell_type": "code",
     "collapsed": false,
     "input": [
      "data[\"Outlet\"] = le.fit_transform(data[\"Outlet_Identifier\"])"
     ],
     "language": "python",
     "metadata": {},
     "outputs": [],
     "prompt_number": 90
    },
    {
     "cell_type": "code",
     "collapsed": false,
     "input": [
      "var_mod = ['Item_Fat_Content','Outlet_Location_Type','Outlet_Size','Item_Type_Combined','Outlet_Type','Outlet']"
     ],
     "language": "python",
     "metadata": {},
     "outputs": [],
     "prompt_number": 91
    },
    {
     "cell_type": "code",
     "collapsed": false,
     "input": [
      "for i in var_mod:\n",
      "    data[i] = le.fit_transform(data[i])"
     ],
     "language": "python",
     "metadata": {},
     "outputs": [],
     "prompt_number": 92
    },
    {
     "cell_type": "code",
     "collapsed": false,
     "input": [
      "data.head()"
     ],
     "language": "python",
     "metadata": {},
     "outputs": [
      {
       "html": [
        "<div style=\"max-width:1500px;overflow:auto;\">\n",
        "<table border=\"1\" class=\"dataframe\">\n",
        "  <thead>\n",
        "    <tr style=\"text-align: right;\">\n",
        "      <th></th>\n",
        "      <th>Item_Fat_Content</th>\n",
        "      <th>Item_Identifier</th>\n",
        "      <th>Item_MRP</th>\n",
        "      <th>Item_Outlet_Sales</th>\n",
        "      <th>Item_Type</th>\n",
        "      <th>Item_Visibility</th>\n",
        "      <th>Item_Weight</th>\n",
        "      <th>Outlet_Establishment_Year</th>\n",
        "      <th>Outlet_Identifier</th>\n",
        "      <th>Outlet_Location_Type</th>\n",
        "      <th>Outlet_Size</th>\n",
        "      <th>Outlet_Type</th>\n",
        "      <th>source</th>\n",
        "      <th>Item_Visibility_MeanRatio</th>\n",
        "      <th>Item_Type_Combined</th>\n",
        "      <th>Outlet_Years</th>\n",
        "      <th>Outlet</th>\n",
        "    </tr>\n",
        "  </thead>\n",
        "  <tbody>\n",
        "    <tr>\n",
        "      <th>0</th>\n",
        "      <td>0</td>\n",
        "      <td>FDA15</td>\n",
        "      <td>249.8092</td>\n",
        "      <td>3735.1380</td>\n",
        "      <td>Dairy</td>\n",
        "      <td>0.016047</td>\n",
        "      <td>9.30</td>\n",
        "      <td>1999</td>\n",
        "      <td>OUT049</td>\n",
        "      <td>0</td>\n",
        "      <td>1</td>\n",
        "      <td>1</td>\n",
        "      <td>train</td>\n",
        "      <td>0.931078</td>\n",
        "      <td>1</td>\n",
        "      <td>14</td>\n",
        "      <td>9</td>\n",
        "    </tr>\n",
        "    <tr>\n",
        "      <th>1</th>\n",
        "      <td>2</td>\n",
        "      <td>DRC01</td>\n",
        "      <td>48.2692</td>\n",
        "      <td>443.4228</td>\n",
        "      <td>Soft Drinks</td>\n",
        "      <td>0.019278</td>\n",
        "      <td>5.92</td>\n",
        "      <td>2009</td>\n",
        "      <td>OUT018</td>\n",
        "      <td>2</td>\n",
        "      <td>1</td>\n",
        "      <td>2</td>\n",
        "      <td>train</td>\n",
        "      <td>0.933420</td>\n",
        "      <td>0</td>\n",
        "      <td>4</td>\n",
        "      <td>3</td>\n",
        "    </tr>\n",
        "    <tr>\n",
        "      <th>2</th>\n",
        "      <td>0</td>\n",
        "      <td>FDN15</td>\n",
        "      <td>141.6180</td>\n",
        "      <td>2097.2700</td>\n",
        "      <td>Meat</td>\n",
        "      <td>0.016760</td>\n",
        "      <td>17.50</td>\n",
        "      <td>1999</td>\n",
        "      <td>OUT049</td>\n",
        "      <td>0</td>\n",
        "      <td>1</td>\n",
        "      <td>1</td>\n",
        "      <td>train</td>\n",
        "      <td>0.960069</td>\n",
        "      <td>1</td>\n",
        "      <td>14</td>\n",
        "      <td>9</td>\n",
        "    </tr>\n",
        "    <tr>\n",
        "      <th>3</th>\n",
        "      <td>2</td>\n",
        "      <td>FDX07</td>\n",
        "      <td>182.0950</td>\n",
        "      <td>732.3800</td>\n",
        "      <td>Fruits and Vegetables</td>\n",
        "      <td>0.017834</td>\n",
        "      <td>19.20</td>\n",
        "      <td>1998</td>\n",
        "      <td>OUT010</td>\n",
        "      <td>2</td>\n",
        "      <td>2</td>\n",
        "      <td>0</td>\n",
        "      <td>train</td>\n",
        "      <td>1.000000</td>\n",
        "      <td>1</td>\n",
        "      <td>15</td>\n",
        "      <td>0</td>\n",
        "    </tr>\n",
        "    <tr>\n",
        "      <th>4</th>\n",
        "      <td>1</td>\n",
        "      <td>NCD19</td>\n",
        "      <td>53.8614</td>\n",
        "      <td>994.7052</td>\n",
        "      <td>Household</td>\n",
        "      <td>0.009780</td>\n",
        "      <td>8.93</td>\n",
        "      <td>1987</td>\n",
        "      <td>OUT013</td>\n",
        "      <td>2</td>\n",
        "      <td>0</td>\n",
        "      <td>1</td>\n",
        "      <td>train</td>\n",
        "      <td>1.000000</td>\n",
        "      <td>2</td>\n",
        "      <td>26</td>\n",
        "      <td>1</td>\n",
        "    </tr>\n",
        "  </tbody>\n",
        "</table>\n",
        "</div>"
       ],
       "metadata": {},
       "output_type": "pyout",
       "prompt_number": 95,
       "text": [
        "   Item_Fat_Content Item_Identifier  Item_MRP  Item_Outlet_Sales  \\\n",
        "0                 0           FDA15  249.8092          3735.1380   \n",
        "1                 2           DRC01   48.2692           443.4228   \n",
        "2                 0           FDN15  141.6180          2097.2700   \n",
        "3                 2           FDX07  182.0950           732.3800   \n",
        "4                 1           NCD19   53.8614           994.7052   \n",
        "\n",
        "               Item_Type  Item_Visibility  Item_Weight  \\\n",
        "0                  Dairy         0.016047         9.30   \n",
        "1            Soft Drinks         0.019278         5.92   \n",
        "2                   Meat         0.016760        17.50   \n",
        "3  Fruits and Vegetables         0.017834        19.20   \n",
        "4              Household         0.009780         8.93   \n",
        "\n",
        "   Outlet_Establishment_Year Outlet_Identifier  Outlet_Location_Type  \\\n",
        "0                       1999            OUT049                     0   \n",
        "1                       2009            OUT018                     2   \n",
        "2                       1999            OUT049                     0   \n",
        "3                       1998            OUT010                     2   \n",
        "4                       1987            OUT013                     2   \n",
        "\n",
        "   Outlet_Size  Outlet_Type source  Item_Visibility_MeanRatio  \\\n",
        "0            1            1  train                   0.931078   \n",
        "1            1            2  train                   0.933420   \n",
        "2            1            1  train                   0.960069   \n",
        "3            2            0  train                   1.000000   \n",
        "4            0            1  train                   1.000000   \n",
        "\n",
        "   Item_Type_Combined  Outlet_Years  Outlet  \n",
        "0                   1            14       9  \n",
        "1                   0             4       3  \n",
        "2                   1            14       9  \n",
        "3                   1            15       0  \n",
        "4                   2            26       1  "
       ]
      }
     ],
     "prompt_number": 95
    },
    {
     "cell_type": "code",
     "collapsed": false,
     "input": [
      "data.info()"
     ],
     "language": "python",
     "metadata": {},
     "outputs": [
      {
       "output_type": "stream",
       "stream": "stdout",
       "text": [
        "<class 'pandas.core.frame.DataFrame'>\n",
        "RangeIndex: 14204 entries, 0 to 14203\n",
        "Data columns (total 17 columns):\n",
        "Item_Fat_Content             14204 non-null int64\n",
        "Item_Identifier              14204 non-null object\n",
        "Item_MRP                     14204 non-null float64\n",
        "Item_Outlet_Sales            8523 non-null float64\n",
        "Item_Type                    14204 non-null object\n",
        "Item_Visibility              14204 non-null float64\n",
        "Item_Weight                  14204 non-null float64\n",
        "Outlet_Establishment_Year    14204 non-null int64\n",
        "Outlet_Identifier            14204 non-null object\n",
        "Outlet_Location_Type         14204 non-null int64\n",
        "Outlet_Size                  14204 non-null int64\n",
        "Outlet_Type                  14204 non-null int64\n",
        "source                       14204 non-null object\n",
        "Item_Visibility_MeanRatio    14204 non-null float64\n",
        "Item_Type_Combined           14204 non-null int64\n",
        "Outlet_Years                 14204 non-null int64\n",
        "Outlet                       14204 non-null int64\n",
        "dtypes: float64(5), int64(8), object(4)\n",
        "memory usage: 1.8+ MB\n"
       ]
      }
     ],
     "prompt_number": 94
    },
    {
     "cell_type": "code",
     "collapsed": false,
     "input": [
      "data = pd.get_dummies(data,columns=[\"Item_Fat_Content\", \"Outlet_Location_Type\", \"Outlet\", \"Item_Type_Combined\",\"Outlet_Size\",               \n",
      "\"Outlet_Type\"])"
     ],
     "language": "python",
     "metadata": {},
     "outputs": [],
     "prompt_number": 96
    },
    {
     "cell_type": "code",
     "collapsed": false,
     "input": [
      "data.dtypes"
     ],
     "language": "python",
     "metadata": {},
     "outputs": [
      {
       "metadata": {},
       "output_type": "pyout",
       "prompt_number": 98,
       "text": [
        "Item_Identifier               object\n",
        "Item_MRP                     float64\n",
        "Item_Outlet_Sales            float64\n",
        "Item_Type                     object\n",
        "Item_Visibility              float64\n",
        "Item_Weight                  float64\n",
        "Outlet_Establishment_Year      int64\n",
        "Outlet_Identifier             object\n",
        "source                        object\n",
        "Item_Visibility_MeanRatio    float64\n",
        "Outlet_Years                   int64\n",
        "Item_Fat_Content_0             uint8\n",
        "Item_Fat_Content_1             uint8\n",
        "Item_Fat_Content_2             uint8\n",
        "Outlet_Location_Type_0         uint8\n",
        "Outlet_Location_Type_1         uint8\n",
        "Outlet_Location_Type_2         uint8\n",
        "Outlet_0                       uint8\n",
        "Outlet_1                       uint8\n",
        "Outlet_2                       uint8\n",
        "Outlet_3                       uint8\n",
        "Outlet_4                       uint8\n",
        "Outlet_5                       uint8\n",
        "Outlet_6                       uint8\n",
        "Outlet_7                       uint8\n",
        "Outlet_8                       uint8\n",
        "Outlet_9                       uint8\n",
        "Item_Type_Combined_0           uint8\n",
        "Item_Type_Combined_1           uint8\n",
        "Item_Type_Combined_2           uint8\n",
        "Outlet_Size_0                  uint8\n",
        "Outlet_Size_1                  uint8\n",
        "Outlet_Size_2                  uint8\n",
        "Outlet_Type_0                  uint8\n",
        "Outlet_Type_1                  uint8\n",
        "Outlet_Type_2                  uint8\n",
        "Outlet_Type_3                  uint8\n",
        "dtype: object"
       ]
      }
     ],
     "prompt_number": 98
    },
    {
     "cell_type": "code",
     "collapsed": false,
     "input": [
      "data.drop([\"Outlet_Establishment_Year\", \"Item_Type\"], axis=1,inplace=True)"
     ],
     "language": "python",
     "metadata": {},
     "outputs": [],
     "prompt_number": 99
    },
    {
     "cell_type": "code",
     "collapsed": false,
     "input": [
      "train = data.loc[data[\"source\"]==\"train\"]\n",
      "test = data.loc[data[\"source\"]==\"test\"]"
     ],
     "language": "python",
     "metadata": {},
     "outputs": [],
     "prompt_number": 100
    },
    {
     "cell_type": "code",
     "collapsed": false,
     "input": [
      "test.drop([\"Item_Outlet_Sales\", \"source\"],axis=1,inplace=True)\n",
      "train.drop([\"source\"],axis=1,inplace=True)"
     ],
     "language": "python",
     "metadata": {},
     "outputs": [
      {
       "output_type": "stream",
       "stream": "stderr",
       "text": [
        "-c:1: SettingWithCopyWarning: \n",
        "A value is trying to be set on a copy of a slice from a DataFrame\n",
        "\n",
        "See the caveats in the documentation: http://pandas.pydata.org/pandas-docs/stable/indexing.html#indexing-view-versus-copy\n",
        "-c:2: SettingWithCopyWarning: \n",
        "A value is trying to be set on a copy of a slice from a DataFrame\n",
        "\n",
        "See the caveats in the documentation: http://pandas.pydata.org/pandas-docs/stable/indexing.html#indexing-view-versus-copy\n"
       ]
      }
     ],
     "prompt_number": 103
    },
    {
     "cell_type": "code",
     "collapsed": false,
     "input": [
      "type(test)"
     ],
     "language": "python",
     "metadata": {},
     "outputs": [
      {
       "metadata": {},
       "output_type": "pyout",
       "prompt_number": 104,
       "text": [
        "pandas.core.frame.DataFrame"
       ]
      }
     ],
     "prompt_number": 104
    },
    {
     "cell_type": "code",
     "collapsed": false,
     "input": [
      "test.to_csv(\"test_modified.csv\",index=False)\n",
      "train.to_csv(\"train_modified.csv\",index=False)"
     ],
     "language": "python",
     "metadata": {},
     "outputs": [],
     "prompt_number": 105
    },
    {
     "cell_type": "code",
     "collapsed": false,
     "input": [],
     "language": "python",
     "metadata": {},
     "outputs": []
    }
   ],
   "metadata": {}
  }
 ]
}