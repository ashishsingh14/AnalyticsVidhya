{
 "metadata": {
  "name": ""
 },
 "nbformat": 3,
 "nbformat_minor": 0,
 "worksheets": [
  {
   "cells": [
    {
     "cell_type": "code",
     "collapsed": false,
     "input": [
      "import pandas as pd\n",
      "import numpy as np\n",
      "%matplotlib inline"
     ],
     "language": "python",
     "metadata": {},
     "outputs": [],
     "prompt_number": 106
    },
    {
     "cell_type": "code",
     "collapsed": false,
     "input": [
      "plot(arange(5))\n"
     ],
     "language": "python",
     "metadata": {},
     "outputs": [
      {
       "ename": "NameError",
       "evalue": "name 'plot' is not defined",
       "output_type": "pyerr",
       "traceback": [
        "\u001b[0;31m---------------------------------------------------------------------------\u001b[0m\n\u001b[0;31mNameError\u001b[0m                                 Traceback (most recent call last)",
        "\u001b[0;32m<ipython-input-107-9eb9c2bc6e8c>\u001b[0m in \u001b[0;36m<module>\u001b[0;34m()\u001b[0m\n\u001b[0;32m----> 1\u001b[0;31m \u001b[0mplot\u001b[0m\u001b[0;34m(\u001b[0m\u001b[0marange\u001b[0m\u001b[0;34m(\u001b[0m\u001b[0;36m5\u001b[0m\u001b[0;34m)\u001b[0m\u001b[0;34m)\u001b[0m\u001b[0;34m\u001b[0m\u001b[0m\n\u001b[0m",
        "\u001b[0;31mNameError\u001b[0m: name 'plot' is not defined"
       ]
      }
     ],
     "prompt_number": 107
    },
    {
     "cell_type": "code",
     "collapsed": false,
     "input": [
      "import matplotlib.pyplot as plt\n",
      "plt.style.use('ggplot')"
     ],
     "language": "python",
     "metadata": {},
     "outputs": [],
     "prompt_number": 108
    },
    {
     "cell_type": "code",
     "collapsed": false,
     "input": [
      "df = pd.read_csv(\"train.csv\")"
     ],
     "language": "python",
     "metadata": {},
     "outputs": [],
     "prompt_number": 109
    },
    {
     "cell_type": "code",
     "collapsed": false,
     "input": [
      "df.info()"
     ],
     "language": "python",
     "metadata": {},
     "outputs": [
      {
       "output_type": "stream",
       "stream": "stdout",
       "text": [
        "<class 'pandas.core.frame.DataFrame'>\n",
        "RangeIndex: 614 entries, 0 to 613\n",
        "Data columns (total 13 columns):\n",
        "Loan_ID              614 non-null object\n",
        "Gender               601 non-null object\n",
        "Married              611 non-null object\n",
        "Dependents           599 non-null object\n",
        "Education            614 non-null object\n",
        "Self_Employed        582 non-null object\n",
        "ApplicantIncome      614 non-null int64\n",
        "CoapplicantIncome    614 non-null float64\n",
        "LoanAmount           592 non-null float64\n",
        "Loan_Amount_Term     600 non-null float64\n",
        "Credit_History       564 non-null float64\n",
        "Property_Area        614 non-null object\n",
        "Loan_Status          614 non-null object\n",
        "dtypes: float64(4), int64(1), object(8)\n",
        "memory usage: 62.4+ KB\n"
       ]
      }
     ],
     "prompt_number": 110
    },
    {
     "cell_type": "code",
     "collapsed": false,
     "input": [
      "df.describe()\n"
     ],
     "language": "python",
     "metadata": {},
     "outputs": [
      {
       "html": [
        "<div style=\"max-width:1500px;overflow:auto;\">\n",
        "<table border=\"1\" class=\"dataframe\">\n",
        "  <thead>\n",
        "    <tr style=\"text-align: right;\">\n",
        "      <th></th>\n",
        "      <th>ApplicantIncome</th>\n",
        "      <th>CoapplicantIncome</th>\n",
        "      <th>LoanAmount</th>\n",
        "      <th>Loan_Amount_Term</th>\n",
        "      <th>Credit_History</th>\n",
        "    </tr>\n",
        "  </thead>\n",
        "  <tbody>\n",
        "    <tr>\n",
        "      <th>count</th>\n",
        "      <td>614.000000</td>\n",
        "      <td>614.000000</td>\n",
        "      <td>592.000000</td>\n",
        "      <td>600.00000</td>\n",
        "      <td>564.000000</td>\n",
        "    </tr>\n",
        "    <tr>\n",
        "      <th>mean</th>\n",
        "      <td>5403.459283</td>\n",
        "      <td>1621.245798</td>\n",
        "      <td>146.412162</td>\n",
        "      <td>342.00000</td>\n",
        "      <td>0.842199</td>\n",
        "    </tr>\n",
        "    <tr>\n",
        "      <th>std</th>\n",
        "      <td>6109.041673</td>\n",
        "      <td>2926.248369</td>\n",
        "      <td>85.587325</td>\n",
        "      <td>65.12041</td>\n",
        "      <td>0.364878</td>\n",
        "    </tr>\n",
        "    <tr>\n",
        "      <th>min</th>\n",
        "      <td>150.000000</td>\n",
        "      <td>0.000000</td>\n",
        "      <td>9.000000</td>\n",
        "      <td>12.00000</td>\n",
        "      <td>0.000000</td>\n",
        "    </tr>\n",
        "    <tr>\n",
        "      <th>25%</th>\n",
        "      <td>2877.500000</td>\n",
        "      <td>0.000000</td>\n",
        "      <td>100.000000</td>\n",
        "      <td>360.00000</td>\n",
        "      <td>1.000000</td>\n",
        "    </tr>\n",
        "    <tr>\n",
        "      <th>50%</th>\n",
        "      <td>3812.500000</td>\n",
        "      <td>1188.500000</td>\n",
        "      <td>128.000000</td>\n",
        "      <td>360.00000</td>\n",
        "      <td>1.000000</td>\n",
        "    </tr>\n",
        "    <tr>\n",
        "      <th>75%</th>\n",
        "      <td>5795.000000</td>\n",
        "      <td>2297.250000</td>\n",
        "      <td>168.000000</td>\n",
        "      <td>360.00000</td>\n",
        "      <td>1.000000</td>\n",
        "    </tr>\n",
        "    <tr>\n",
        "      <th>max</th>\n",
        "      <td>81000.000000</td>\n",
        "      <td>41667.000000</td>\n",
        "      <td>700.000000</td>\n",
        "      <td>480.00000</td>\n",
        "      <td>1.000000</td>\n",
        "    </tr>\n",
        "  </tbody>\n",
        "</table>\n",
        "</div>"
       ],
       "metadata": {},
       "output_type": "pyout",
       "prompt_number": 12,
       "text": [
        "       ApplicantIncome  CoapplicantIncome  LoanAmount  Loan_Amount_Term  \\\n",
        "count       614.000000         614.000000  592.000000         600.00000   \n",
        "mean       5403.459283        1621.245798  146.412162         342.00000   \n",
        "std        6109.041673        2926.248369   85.587325          65.12041   \n",
        "min         150.000000           0.000000    9.000000          12.00000   \n",
        "25%        2877.500000           0.000000  100.000000         360.00000   \n",
        "50%        3812.500000        1188.500000  128.000000         360.00000   \n",
        "75%        5795.000000        2297.250000  168.000000         360.00000   \n",
        "max       81000.000000       41667.000000  700.000000         480.00000   \n",
        "\n",
        "       Credit_History  \n",
        "count      564.000000  \n",
        "mean         0.842199  \n",
        "std          0.364878  \n",
        "min          0.000000  \n",
        "25%          1.000000  \n",
        "50%          1.000000  \n",
        "75%          1.000000  \n",
        "max          1.000000  "
       ]
      }
     ],
     "prompt_number": 12
    },
    {
     "cell_type": "code",
     "collapsed": false,
     "input": [
      "df[\"ApplicantIncome\"].hist(bins=40)"
     ],
     "language": "python",
     "metadata": {},
     "outputs": [
      {
       "metadata": {},
       "output_type": "pyout",
       "prompt_number": 112,
       "text": [
        "<matplotlib.axes._subplots.AxesSubplot at 0x7f0e1d3ff950>"
       ]
      },
      {
       "metadata": {},
       "output_type": "display_data",
       "png": "[encoded data removed]",
       "text": [
        "<matplotlib.figure.Figure at 0x7f0e1cbf6750>"
       ]
      }
     ],
     "prompt_number": 112
    },
    {
     "cell_type": "code",
     "collapsed": false,
     "input": [
      "df.boxplot(column=[\"ApplicantIncome\",\"CoapplicantIncome\"])"
     ],
     "language": "python",
     "metadata": {},
     "outputs": [
      {
       "metadata": {},
       "output_type": "pyout",
       "prompt_number": 17,
       "text": [
        "<matplotlib.axes._subplots.AxesSubplot at 0x7f0e1e302250>"
       ]
      },
      {
       "metadata": {},
       "output_type": "display_data",
       "png": "[encoded data removed]",
       "text": [
        "<matplotlib.figure.Figure at 0x7f0e1eab6ad0>"
       ]
      }
     ],
     "prompt_number": 17
    },
    {
     "cell_type": "code",
     "collapsed": false,
     "input": [
      "df.boxplot(column=[\"ApplicantIncome\",\"CoapplicantIncome\"], by=\"Education\")"
     ],
     "language": "python",
     "metadata": {},
     "outputs": [
      {
       "metadata": {},
       "output_type": "pyout",
       "prompt_number": 20,
       "text": [
        "array([<matplotlib.axes._subplots.AxesSubplot object at 0x7f0e1e354f50>,\n",
        "       <matplotlib.axes._subplots.AxesSubplot object at 0x7f0e1e16b250>], dtype=object)"
       ]
      },
      {
       "metadata": {},
       "output_type": "display_data",
       "png": "[encoded data removed]",
       "text": [
        "<matplotlib.figure.Figure at 0x7f0e1e2f3410>"
       ]
      }
     ],
     "prompt_number": 20
    },
    {
     "cell_type": "code",
     "collapsed": false,
     "input": [
      "df[\"LoanAmount\"].hist(bins=50)"
     ],
     "language": "python",
     "metadata": {},
     "outputs": [
      {
       "metadata": {},
       "output_type": "pyout",
       "prompt_number": 21,
       "text": [
        "<matplotlib.axes._subplots.AxesSubplot at 0x7f0e1e29f390>"
       ]
      },
      {
       "metadata": {},
       "output_type": "display_data",
       "png": "[encoded data removed]",
       "text": [
        "<matplotlib.figure.Figure at 0x7f0e1e24d690>"
       ]
      }
     ],
     "prompt_number": 21
    },
    {
     "cell_type": "code",
     "collapsed": false,
     "input": [
      "df.boxplot(column=\"LoanAmount\", by=\"Education\")"
     ],
     "language": "python",
     "metadata": {},
     "outputs": [
      {
       "metadata": {},
       "output_type": "pyout",
       "prompt_number": 23,
       "text": [
        "<matplotlib.axes._subplots.AxesSubplot at 0x7f0e1de0a6d0>"
       ]
      },
      {
       "metadata": {},
       "output_type": "display_data",
       "png": "[encoded data removed]",
       "text": [
        "<matplotlib.figure.Figure at 0x7f0e1dd99610>"
       ]
      }
     ],
     "prompt_number": 23
    },
    {
     "cell_type": "code",
     "collapsed": false,
     "input": [
      "df.head()"
     ],
     "language": "python",
     "metadata": {},
     "outputs": [
      {
       "html": [
        "<div style=\"max-width:1500px;overflow:auto;\">\n",
        "<table border=\"1\" class=\"dataframe\">\n",
        "  <thead>\n",
        "    <tr style=\"text-align: right;\">\n",
        "      <th></th>\n",
        "      <th>Loan_ID</th>\n",
        "      <th>Gender</th>\n",
        "      <th>Married</th>\n",
        "      <th>Dependents</th>\n",
        "      <th>Education</th>\n",
        "      <th>Self_Employed</th>\n",
        "      <th>ApplicantIncome</th>\n",
        "      <th>CoapplicantIncome</th>\n",
        "      <th>LoanAmount</th>\n",
        "      <th>Loan_Amount_Term</th>\n",
        "      <th>Credit_History</th>\n",
        "      <th>Property_Area</th>\n",
        "      <th>Loan_Status</th>\n",
        "    </tr>\n",
        "  </thead>\n",
        "  <tbody>\n",
        "    <tr>\n",
        "      <th>0</th>\n",
        "      <td>LP001002</td>\n",
        "      <td>Male</td>\n",
        "      <td>No</td>\n",
        "      <td>0</td>\n",
        "      <td>Graduate</td>\n",
        "      <td>No</td>\n",
        "      <td>5849</td>\n",
        "      <td>0.0</td>\n",
        "      <td>NaN</td>\n",
        "      <td>360.0</td>\n",
        "      <td>1.0</td>\n",
        "      <td>Urban</td>\n",
        "      <td>Y</td>\n",
        "    </tr>\n",
        "    <tr>\n",
        "      <th>1</th>\n",
        "      <td>LP001003</td>\n",
        "      <td>Male</td>\n",
        "      <td>Yes</td>\n",
        "      <td>1</td>\n",
        "      <td>Graduate</td>\n",
        "      <td>No</td>\n",
        "      <td>4583</td>\n",
        "      <td>1508.0</td>\n",
        "      <td>128.0</td>\n",
        "      <td>360.0</td>\n",
        "      <td>1.0</td>\n",
        "      <td>Rural</td>\n",
        "      <td>N</td>\n",
        "    </tr>\n",
        "    <tr>\n",
        "      <th>2</th>\n",
        "      <td>LP001005</td>\n",
        "      <td>Male</td>\n",
        "      <td>Yes</td>\n",
        "      <td>0</td>\n",
        "      <td>Graduate</td>\n",
        "      <td>Yes</td>\n",
        "      <td>3000</td>\n",
        "      <td>0.0</td>\n",
        "      <td>66.0</td>\n",
        "      <td>360.0</td>\n",
        "      <td>1.0</td>\n",
        "      <td>Urban</td>\n",
        "      <td>Y</td>\n",
        "    </tr>\n",
        "    <tr>\n",
        "      <th>3</th>\n",
        "      <td>LP001006</td>\n",
        "      <td>Male</td>\n",
        "      <td>Yes</td>\n",
        "      <td>0</td>\n",
        "      <td>Not Graduate</td>\n",
        "      <td>No</td>\n",
        "      <td>2583</td>\n",
        "      <td>2358.0</td>\n",
        "      <td>120.0</td>\n",
        "      <td>360.0</td>\n",
        "      <td>1.0</td>\n",
        "      <td>Urban</td>\n",
        "      <td>Y</td>\n",
        "    </tr>\n",
        "    <tr>\n",
        "      <th>4</th>\n",
        "      <td>LP001008</td>\n",
        "      <td>Male</td>\n",
        "      <td>No</td>\n",
        "      <td>0</td>\n",
        "      <td>Graduate</td>\n",
        "      <td>No</td>\n",
        "      <td>6000</td>\n",
        "      <td>0.0</td>\n",
        "      <td>141.0</td>\n",
        "      <td>360.0</td>\n",
        "      <td>1.0</td>\n",
        "      <td>Urban</td>\n",
        "      <td>Y</td>\n",
        "    </tr>\n",
        "  </tbody>\n",
        "</table>\n",
        "</div>"
       ],
       "metadata": {},
       "output_type": "pyout",
       "prompt_number": 24,
       "text": [
        "    Loan_ID Gender Married Dependents     Education Self_Employed  \\\n",
        "0  LP001002   Male      No          0      Graduate            No   \n",
        "1  LP001003   Male     Yes          1      Graduate            No   \n",
        "2  LP001005   Male     Yes          0      Graduate           Yes   \n",
        "3  LP001006   Male     Yes          0  Not Graduate            No   \n",
        "4  LP001008   Male      No          0      Graduate            No   \n",
        "\n",
        "   ApplicantIncome  CoapplicantIncome  LoanAmount  Loan_Amount_Term  \\\n",
        "0             5849                0.0         NaN             360.0   \n",
        "1             4583             1508.0       128.0             360.0   \n",
        "2             3000                0.0        66.0             360.0   \n",
        "3             2583             2358.0       120.0             360.0   \n",
        "4             6000                0.0       141.0             360.0   \n",
        "\n",
        "   Credit_History Property_Area Loan_Status  \n",
        "0             1.0         Urban           Y  \n",
        "1             1.0         Rural           N  \n",
        "2             1.0         Urban           Y  \n",
        "3             1.0         Urban           Y  \n",
        "4             1.0         Urban           Y  "
       ]
      }
     ],
     "prompt_number": 24
    },
    {
     "cell_type": "code",
     "collapsed": false,
     "input": [
      "temp1 = df[\"Credit_History\"].value_counts(ascending=True)"
     ],
     "language": "python",
     "metadata": {},
     "outputs": [],
     "prompt_number": 25
    },
    {
     "cell_type": "code",
     "collapsed": false,
     "input": [
      "temp1\n"
     ],
     "language": "python",
     "metadata": {},
     "outputs": [
      {
       "metadata": {},
       "output_type": "pyout",
       "prompt_number": 29,
       "text": [
        "0.0     89\n",
        "1.0    475\n",
        "Name: Credit_History, dtype: int64"
       ]
      }
     ],
     "prompt_number": 29
    },
    {
     "cell_type": "code",
     "collapsed": false,
     "input": [
      "temp2 = df.pivot_table(values=\"Loan_Status\", index=[\"Credit_History\"], aggfunc=lambda x:x.map({\"Y\":1,\"N\":0}).mean())"
     ],
     "language": "python",
     "metadata": {},
     "outputs": [],
     "prompt_number": 30
    },
    {
     "cell_type": "code",
     "collapsed": false,
     "input": [
      "temp2\n"
     ],
     "language": "python",
     "metadata": {},
     "outputs": [
      {
       "metadata": {},
       "output_type": "pyout",
       "prompt_number": 31,
       "text": [
        "Credit_History\n",
        "0.0    0.078652\n",
        "1.0    0.795789\n",
        "Name: Loan_Status, dtype: float64"
       ]
      }
     ],
     "prompt_number": 31
    },
    {
     "cell_type": "code",
     "collapsed": false,
     "input": [
      "fig = plt.figure(figsize=(8,4))"
     ],
     "language": "python",
     "metadata": {},
     "outputs": [
      {
       "metadata": {},
       "output_type": "display_data",
       "text": [
        "<matplotlib.figure.Figure at 0x7f0e1d4bbcd0>"
       ]
      }
     ],
     "prompt_number": 49
    },
    {
     "cell_type": "code",
     "collapsed": false,
     "input": [
      "type(temp2)"
     ],
     "language": "python",
     "metadata": {},
     "outputs": [
      {
       "metadata": {},
       "output_type": "pyout",
       "prompt_number": 50,
       "text": [
        "pandas.core.series.Series"
       ]
      }
     ],
     "prompt_number": 50
    },
    {
     "cell_type": "code",
     "collapsed": false,
     "input": [],
     "language": "python",
     "metadata": {},
     "outputs": [],
     "prompt_number": 50
    },
    {
     "cell_type": "code",
     "collapsed": false,
     "input": [],
     "language": "python",
     "metadata": {},
     "outputs": [],
     "prompt_number": 50
    },
    {
     "cell_type": "code",
     "collapsed": false,
     "input": [],
     "language": "python",
     "metadata": {},
     "outputs": [],
     "prompt_number": 50
    },
    {
     "cell_type": "code",
     "collapsed": false,
     "input": [
      "ax1 = fig.add_subplot(121)\n",
      "temp1.plot(kind=\"bar\")\n",
      "ax1.set_xlabel(\"Credit History\")\n",
      "ax1.set_ylabel(\"Count of Applicant\")\n",
      "ax1.set_title(\"Applicant by Credit History\")\n",
      "ax2 = fig.add_subplot(122)\n",
      "temp2.plot(kind = 'bar')\n",
      "ax2.set_xlabel('Credit_History')\n",
      "ax2.set_ylabel('Probability of getting loan')\n",
      "ax2.set_title(\"Probability of getting loan by credit history\")"
     ],
     "language": "python",
     "metadata": {},
     "outputs": [
      {
       "metadata": {},
       "output_type": "pyout",
       "prompt_number": 58,
       "text": [
        "<matplotlib.text.Text at 0x7f0e1d0e6550>"
       ]
      },
      {
       "metadata": {},
       "output_type": "display_data",
       "png": "[encoded data removed]",
       "text": [
        "<matplotlib.figure.Figure at 0x7f0e1d42a310>"
       ]
      }
     ],
     "prompt_number": 58
    },
    {
     "cell_type": "code",
     "collapsed": false,
     "input": [
      "temp3 = pd.crosstab([df[\"Credit_History\"],df[\"Gender\"]],[df[\"Loan_Status\"]])\n",
      "temp3.plot(kind=\"bar\",stacked=True,color=[\"red\",\"blue\"],grid=False)"
     ],
     "language": "python",
     "metadata": {},
     "outputs": [
      {
       "metadata": {},
       "output_type": "pyout",
       "prompt_number": 61,
       "text": [
        "<matplotlib.axes._subplots.AxesSubplot at 0x7f0e1cac6210>"
       ]
      },
      {
       "metadata": {},
       "output_type": "display_data",
       "png": "[encoded data removed]",
       "text": [
        "<matplotlib.figure.Figure at 0x7f0e1cba7c50>"
       ]
      }
     ],
     "prompt_number": 61
    },
    {
     "cell_type": "code",
     "collapsed": false,
     "input": [],
     "language": "python",
     "metadata": {},
     "outputs": [],
     "prompt_number": 56
    },
    {
     "cell_type": "code",
     "collapsed": false,
     "input": [
      "df.apply(lambda x: sum(x.isnull()),axis=0)"
     ],
     "language": "python",
     "metadata": {},
     "outputs": [
      {
       "metadata": {},
       "output_type": "pyout",
       "prompt_number": 113,
       "text": [
        "Loan_ID               0\n",
        "Gender               13\n",
        "Married               3\n",
        "Dependents           15\n",
        "Education             0\n",
        "Self_Employed        32\n",
        "ApplicantIncome       0\n",
        "CoapplicantIncome     0\n",
        "LoanAmount           22\n",
        "Loan_Amount_Term     14\n",
        "Credit_History       50\n",
        "Property_Area         0\n",
        "Loan_Status           0\n",
        "dtype: int64"
       ]
      }
     ],
     "prompt_number": 113
    },
    {
     "cell_type": "code",
     "collapsed": false,
     "input": [
      "np.nan\n"
     ],
     "language": "python",
     "metadata": {},
     "outputs": [
      {
       "metadata": {},
       "output_type": "pyout",
       "prompt_number": 64,
       "text": [
        "nan"
       ]
      }
     ],
     "prompt_number": 64
    },
    {
     "cell_type": "code",
     "collapsed": false,
     "input": [
      "a = np.nan"
     ],
     "language": "python",
     "metadata": {},
     "outputs": [],
     "prompt_number": 65
    },
    {
     "cell_type": "code",
     "collapsed": false,
     "input": [
      "a\n"
     ],
     "language": "python",
     "metadata": {},
     "outputs": [
      {
       "metadata": {},
       "output_type": "pyout",
       "prompt_number": 66,
       "text": [
        "nan"
       ]
      }
     ],
     "prompt_number": 66
    },
    {
     "cell_type": "code",
     "collapsed": false,
     "input": [
      "np.Nan"
     ],
     "language": "python",
     "metadata": {},
     "outputs": [
      {
       "ename": "AttributeError",
       "evalue": "'module' object has no attribute 'Nan'",
       "output_type": "pyerr",
       "traceback": [
        "\u001b[0;31m---------------------------------------------------------------------------\u001b[0m\n\u001b[0;31mAttributeError\u001b[0m                            Traceback (most recent call last)",
        "\u001b[0;32m<ipython-input-67-b9ed6bfb7781>\u001b[0m in \u001b[0;36m<module>\u001b[0;34m()\u001b[0m\n\u001b[0;32m----> 1\u001b[0;31m \u001b[0mnp\u001b[0m\u001b[0;34m.\u001b[0m\u001b[0mNan\u001b[0m\u001b[0;34m\u001b[0m\u001b[0m\n\u001b[0m",
        "\u001b[0;31mAttributeError\u001b[0m: 'module' object has no attribute 'Nan'"
       ]
      }
     ],
     "prompt_number": 67
    },
    {
     "cell_type": "code",
     "collapsed": false,
     "input": [
      "type(a)"
     ],
     "language": "python",
     "metadata": {},
     "outputs": [
      {
       "metadata": {},
       "output_type": "pyout",
       "prompt_number": 68,
       "text": [
        "float"
       ]
      }
     ],
     "prompt_number": 68
    },
    {
     "cell_type": "code",
     "collapsed": false,
     "input": [
      "data = pd.DataFrame({\"A\":[1,2,3,\"\"], \"B\":[4,5,6,np.nan]})"
     ],
     "language": "python",
     "metadata": {},
     "outputs": [],
     "prompt_number": 93
    },
    {
     "cell_type": "code",
     "collapsed": false,
     "input": [
      "data.apply(lambda x: sum(x.isnull()),axis=0)"
     ],
     "language": "python",
     "metadata": {},
     "outputs": [
      {
       "metadata": {},
       "output_type": "pyout",
       "prompt_number": 94,
       "text": [
        "A    0\n",
        "B    1\n",
        "dtype: int64"
       ]
      }
     ],
     "prompt_number": 94
    },
    {
     "cell_type": "code",
     "collapsed": false,
     "input": [
      "data.fillna(\"23\", inplace=True)"
     ],
     "language": "python",
     "metadata": {},
     "outputs": [],
     "prompt_number": 92
    },
    {
     "cell_type": "code",
     "collapsed": false,
     "input": [
      "data.dtypes[\"A\"]"
     ],
     "language": "python",
     "metadata": {},
     "outputs": [
      {
       "metadata": {},
       "output_type": "pyout",
       "prompt_number": 77,
       "text": [
        "dtype('O')"
       ]
      }
     ],
     "prompt_number": 77
    },
    {
     "cell_type": "code",
     "collapsed": false,
     "input": [
      "import re"
     ],
     "language": "python",
     "metadata": {},
     "outputs": [],
     "prompt_number": 82
    },
    {
     "cell_type": "code",
     "collapsed": false,
     "input": [
      "data = data.replace(r\"\\s*\", np.nan, regex=True)"
     ],
     "language": "python",
     "metadata": {},
     "outputs": [],
     "prompt_number": 97
    },
    {
     "cell_type": "code",
     "collapsed": false,
     "input": [
      "data"
     ],
     "language": "python",
     "metadata": {},
     "outputs": [
      {
       "html": [
        "<div style=\"max-width:1500px;overflow:auto;\">\n",
        "<table border=\"1\" class=\"dataframe\">\n",
        "  <thead>\n",
        "    <tr style=\"text-align: right;\">\n",
        "      <th></th>\n",
        "      <th>A</th>\n",
        "      <th>B</th>\n",
        "    </tr>\n",
        "  </thead>\n",
        "  <tbody>\n",
        "    <tr>\n",
        "      <th>0</th>\n",
        "      <td>1.0</td>\n",
        "      <td>4.0</td>\n",
        "    </tr>\n",
        "    <tr>\n",
        "      <th>1</th>\n",
        "      <td>2.0</td>\n",
        "      <td>5.0</td>\n",
        "    </tr>\n",
        "    <tr>\n",
        "      <th>2</th>\n",
        "      <td>3.0</td>\n",
        "      <td>6.0</td>\n",
        "    </tr>\n",
        "    <tr>\n",
        "      <th>3</th>\n",
        "      <td>NaN</td>\n",
        "      <td>NaN</td>\n",
        "    </tr>\n",
        "  </tbody>\n",
        "</table>\n",
        "</div>"
       ],
       "metadata": {},
       "output_type": "pyout",
       "prompt_number": 98,
       "text": [
        "     A    B\n",
        "0  1.0  4.0\n",
        "1  2.0  5.0\n",
        "2  3.0  6.0\n",
        "3  NaN  NaN"
       ]
      }
     ],
     "prompt_number": 98
    },
    {
     "cell_type": "code",
     "collapsed": false,
     "input": [
      "df[\"LoanAmount\"].fillna(df[\"LoanAmount\"].mean(), inplace=True)"
     ],
     "language": "python",
     "metadata": {},
     "outputs": [],
     "prompt_number": 99
    },
    {
     "cell_type": "code",
     "collapsed": false,
     "input": [
      "a = np.array(df[\"LoanAmount\"])"
     ],
     "language": "python",
     "metadata": {},
     "outputs": [],
     "prompt_number": 100
    },
    {
     "cell_type": "code",
     "collapsed": false,
     "input": [
      "a.mean()"
     ],
     "language": "python",
     "metadata": {},
     "outputs": [
      {
       "metadata": {},
       "output_type": "pyout",
       "prompt_number": 101,
       "text": [
        "146.41216216216216"
       ]
      }
     ],
     "prompt_number": 101
    },
    {
     "cell_type": "code",
     "collapsed": false,
     "input": [
      "a.max()"
     ],
     "language": "python",
     "metadata": {},
     "outputs": [
      {
       "metadata": {},
       "output_type": "pyout",
       "prompt_number": 102,
       "text": [
        "700.0"
       ]
      }
     ],
     "prompt_number": 102
    },
    {
     "cell_type": "code",
     "collapsed": false,
     "input": [
      "a.std()"
     ],
     "language": "python",
     "metadata": {},
     "outputs": [
      {
       "metadata": {},
       "output_type": "pyout",
       "prompt_number": 103,
       "text": [
        "83.969005376367704"
       ]
      }
     ],
     "prompt_number": 103
    },
    {
     "cell_type": "code",
     "collapsed": false,
     "input": [
      "a.min()"
     ],
     "language": "python",
     "metadata": {},
     "outputs": [
      {
       "metadata": {},
       "output_type": "pyout",
       "prompt_number": 104,
       "text": [
        "9.0"
       ]
      }
     ],
     "prompt_number": 104
    },
    {
     "cell_type": "code",
     "collapsed": false,
     "input": [
      "np.random.randn(2,3)"
     ],
     "language": "python",
     "metadata": {},
     "outputs": [
      {
       "metadata": {},
       "output_type": "pyout",
       "prompt_number": 105,
       "text": [
        "array([[-1.31348592, -0.42868948,  3.03724229],\n",
        "       [ 0.03488197, -0.66159955,  0.47320855]])"
       ]
      }
     ],
     "prompt_number": 105
    },
    {
     "cell_type": "code",
     "collapsed": false,
     "input": [
      "dfcopy = df.copy()"
     ],
     "language": "python",
     "metadata": {},
     "outputs": [],
     "prompt_number": 114
    },
    {
     "cell_type": "code",
     "collapsed": false,
     "input": [
      "df.boxplot(column=\"LoanAmount\", by=[\"Education\", \"Self_Employed\"])"
     ],
     "language": "python",
     "metadata": {},
     "outputs": [
      {
       "metadata": {},
       "output_type": "pyout",
       "prompt_number": 115,
       "text": [
        "<matplotlib.axes._subplots.AxesSubplot at 0x7f0e1d4f0a10>"
       ]
      },
      {
       "metadata": {},
       "output_type": "display_data",
       "png": "[encoded data removed]",
       "text": [
        "<matplotlib.figure.Figure at 0x7f0e1da04c90>"
       ]
      }
     ],
     "prompt_number": 115
    },
    {
     "cell_type": "code",
     "collapsed": false,
     "input": [
      "df[\"LoanAmount\"].hist(bins=44)\n",
      "df[\"Self_Employed\"].value_counts().index[0]"
     ],
     "language": "python",
     "metadata": {},
     "outputs": [
      {
       "metadata": {},
       "output_type": "pyout",
       "prompt_number": 118,
       "text": [
        "'No'"
       ]
      },
      {
       "metadata": {},
       "output_type": "display_data",
       "png": "[encoded data removed]",
       "text": [
        "<matplotlib.figure.Figure at 0x7f0e1d7609d0>"
       ]
      }
     ],
     "prompt_number": 118
    },
    {
     "cell_type": "code",
     "collapsed": false,
     "input": [
      "df[\"Self_Employed\"].fillna(\"No\", inplace=True)"
     ],
     "language": "python",
     "metadata": {},
     "outputs": [],
     "prompt_number": 119
    },
    {
     "cell_type": "code",
     "collapsed": false,
     "input": [
      "df[\"Self_Employed\"].value_counts()"
     ],
     "language": "python",
     "metadata": {},
     "outputs": [
      {
       "metadata": {},
       "output_type": "pyout",
       "prompt_number": 120,
       "text": [
        "No     532\n",
        "Yes     82\n",
        "Name: Self_Employed, dtype: int64"
       ]
      }
     ],
     "prompt_number": 120
    },
    {
     "cell_type": "code",
     "collapsed": false,
     "input": [
      "df.apply(lambda x: sum(x.isnull()),axis=0)"
     ],
     "language": "python",
     "metadata": {},
     "outputs": [
      {
       "metadata": {},
       "output_type": "pyout",
       "prompt_number": 139,
       "text": [
        "Loan_ID              0\n",
        "Gender               0\n",
        "Married              0\n",
        "Dependents           0\n",
        "Education            0\n",
        "Self_Employed        0\n",
        "ApplicantIncome      0\n",
        "CoapplicantIncome    0\n",
        "LoanAmount           0\n",
        "Loan_Amount_Term     0\n",
        "Credit_History       0\n",
        "Property_Area        0\n",
        "Loan_Status          0\n",
        "TotalIncome          0\n",
        "LoanAmount_log       0\n",
        "TotalIncome_log      0\n",
        "dtype: int64"
       ]
      }
     ],
     "prompt_number": 139
    },
    {
     "cell_type": "code",
     "collapsed": false,
     "input": [
      "df[\"Gender\"].fillna(df[\"Gender\"].value_counts().index[0], inplace=True)\n",
      "df[\"Married\"].fillna(df[\"Married\"].value_counts().index[0], inplace=True)\n",
      "df[\"Dependents\"].fillna(df[\"Dependents\"].value_counts().index[0], inplace=True)\n",
      "df[\"Credit_History\"].fillna(df[\"Credit_History\"].value_counts().index[0], inplace=True)\n",
      "df[\"Loan_Amount_Term\"].fillna(df[\"Loan_Amount_Term\"].value_counts().index[0], inplace=True)"
     ],
     "language": "python",
     "metadata": {},
     "outputs": [],
     "prompt_number": 138
    },
    {
     "cell_type": "code",
     "collapsed": false,
     "input": [
      "df.head()"
     ],
     "language": "python",
     "metadata": {},
     "outputs": [
      {
       "html": [
        "<div style=\"max-width:1500px;overflow:auto;\">\n",
        "<table border=\"1\" class=\"dataframe\">\n",
        "  <thead>\n",
        "    <tr style=\"text-align: right;\">\n",
        "      <th></th>\n",
        "      <th>Loan_ID</th>\n",
        "      <th>Gender</th>\n",
        "      <th>Married</th>\n",
        "      <th>Dependents</th>\n",
        "      <th>Education</th>\n",
        "      <th>Self_Employed</th>\n",
        "      <th>ApplicantIncome</th>\n",
        "      <th>CoapplicantIncome</th>\n",
        "      <th>LoanAmount</th>\n",
        "      <th>Loan_Amount_Term</th>\n",
        "      <th>Credit_History</th>\n",
        "      <th>Property_Area</th>\n",
        "      <th>Loan_Status</th>\n",
        "    </tr>\n",
        "  </thead>\n",
        "  <tbody>\n",
        "    <tr>\n",
        "      <th>0</th>\n",
        "      <td>LP001002</td>\n",
        "      <td>Male</td>\n",
        "      <td>No</td>\n",
        "      <td>0</td>\n",
        "      <td>Graduate</td>\n",
        "      <td>No</td>\n",
        "      <td>5849</td>\n",
        "      <td>0.0</td>\n",
        "      <td>NaN</td>\n",
        "      <td>360.0</td>\n",
        "      <td>1.0</td>\n",
        "      <td>Urban</td>\n",
        "      <td>Y</td>\n",
        "    </tr>\n",
        "    <tr>\n",
        "      <th>1</th>\n",
        "      <td>LP001003</td>\n",
        "      <td>Male</td>\n",
        "      <td>Yes</td>\n",
        "      <td>1</td>\n",
        "      <td>Graduate</td>\n",
        "      <td>No</td>\n",
        "      <td>4583</td>\n",
        "      <td>1508.0</td>\n",
        "      <td>128.0</td>\n",
        "      <td>360.0</td>\n",
        "      <td>1.0</td>\n",
        "      <td>Rural</td>\n",
        "      <td>N</td>\n",
        "    </tr>\n",
        "    <tr>\n",
        "      <th>2</th>\n",
        "      <td>LP001005</td>\n",
        "      <td>Male</td>\n",
        "      <td>Yes</td>\n",
        "      <td>0</td>\n",
        "      <td>Graduate</td>\n",
        "      <td>Yes</td>\n",
        "      <td>3000</td>\n",
        "      <td>0.0</td>\n",
        "      <td>66.0</td>\n",
        "      <td>360.0</td>\n",
        "      <td>1.0</td>\n",
        "      <td>Urban</td>\n",
        "      <td>Y</td>\n",
        "    </tr>\n",
        "    <tr>\n",
        "      <th>3</th>\n",
        "      <td>LP001006</td>\n",
        "      <td>Male</td>\n",
        "      <td>Yes</td>\n",
        "      <td>0</td>\n",
        "      <td>Not Graduate</td>\n",
        "      <td>No</td>\n",
        "      <td>2583</td>\n",
        "      <td>2358.0</td>\n",
        "      <td>120.0</td>\n",
        "      <td>360.0</td>\n",
        "      <td>1.0</td>\n",
        "      <td>Urban</td>\n",
        "      <td>Y</td>\n",
        "    </tr>\n",
        "    <tr>\n",
        "      <th>4</th>\n",
        "      <td>LP001008</td>\n",
        "      <td>Male</td>\n",
        "      <td>No</td>\n",
        "      <td>0</td>\n",
        "      <td>Graduate</td>\n",
        "      <td>No</td>\n",
        "      <td>6000</td>\n",
        "      <td>0.0</td>\n",
        "      <td>141.0</td>\n",
        "      <td>360.0</td>\n",
        "      <td>1.0</td>\n",
        "      <td>Urban</td>\n",
        "      <td>Y</td>\n",
        "    </tr>\n",
        "  </tbody>\n",
        "</table>\n",
        "</div>"
       ],
       "metadata": {},
       "output_type": "pyout",
       "prompt_number": 124,
       "text": [
        "    Loan_ID Gender Married Dependents     Education Self_Employed  \\\n",
        "0  LP001002   Male      No          0      Graduate            No   \n",
        "1  LP001003   Male     Yes          1      Graduate            No   \n",
        "2  LP001005   Male     Yes          0      Graduate           Yes   \n",
        "3  LP001006   Male     Yes          0  Not Graduate            No   \n",
        "4  LP001008   Male      No          0      Graduate            No   \n",
        "\n",
        "   ApplicantIncome  CoapplicantIncome  LoanAmount  Loan_Amount_Term  \\\n",
        "0             5849                0.0         NaN             360.0   \n",
        "1             4583             1508.0       128.0             360.0   \n",
        "2             3000                0.0        66.0             360.0   \n",
        "3             2583             2358.0       120.0             360.0   \n",
        "4             6000                0.0       141.0             360.0   \n",
        "\n",
        "   Credit_History Property_Area Loan_Status  \n",
        "0             1.0         Urban           Y  \n",
        "1             1.0         Rural           N  \n",
        "2             1.0         Urban           Y  \n",
        "3             1.0         Urban           Y  \n",
        "4             1.0         Urban           Y  "
       ]
      }
     ],
     "prompt_number": 124
    },
    {
     "cell_type": "code",
     "collapsed": false,
     "input": [
      "df[\"TotalIncome\"] = df[\"ApplicantIncome\"] + df[\"CoapplicantIncome\"]"
     ],
     "language": "python",
     "metadata": {},
     "outputs": [],
     "prompt_number": 127
    },
    {
     "cell_type": "code",
     "collapsed": false,
     "input": [
      "df[\"TotalIncome\"].hist(bins=50)"
     ],
     "language": "python",
     "metadata": {},
     "outputs": [
      {
       "metadata": {},
       "output_type": "pyout",
       "prompt_number": 129,
       "text": [
        "<matplotlib.axes._subplots.AxesSubplot at 0x7f0e1c3cf510>"
       ]
      },
      {
       "metadata": {},
       "output_type": "display_data",
       "png": "[encoded data removed]",
       "text": [
        "<matplotlib.figure.Figure at 0x7f0e1c3cfad0>"
       ]
      }
     ],
     "prompt_number": 129
    },
    {
     "cell_type": "code",
     "collapsed": false,
     "input": [
      "table = df.pivot_table(values=\"LoanAmount\",index=\"Self_Employed\",columns=\"Education\",aggfunc=np.median)"
     ],
     "language": "python",
     "metadata": {},
     "outputs": [],
     "prompt_number": 130
    },
    {
     "cell_type": "code",
     "collapsed": false,
     "input": [
      "df[df[\"LoanAmount\"].isnull()]"
     ],
     "language": "python",
     "metadata": {},
     "outputs": [
      {
       "html": [
        "<div style=\"max-width:1500px;overflow:auto;\">\n",
        "<table border=\"1\" class=\"dataframe\">\n",
        "  <thead>\n",
        "    <tr style=\"text-align: right;\">\n",
        "      <th></th>\n",
        "      <th>Loan_ID</th>\n",
        "      <th>Gender</th>\n",
        "      <th>Married</th>\n",
        "      <th>Dependents</th>\n",
        "      <th>Education</th>\n",
        "      <th>Self_Employed</th>\n",
        "      <th>ApplicantIncome</th>\n",
        "      <th>CoapplicantIncome</th>\n",
        "      <th>LoanAmount</th>\n",
        "      <th>Loan_Amount_Term</th>\n",
        "      <th>Credit_History</th>\n",
        "      <th>Property_Area</th>\n",
        "      <th>Loan_Status</th>\n",
        "      <th>TotalIncome</th>\n",
        "    </tr>\n",
        "  </thead>\n",
        "  <tbody>\n",
        "    <tr>\n",
        "      <th>0</th>\n",
        "      <td>LP001002</td>\n",
        "      <td>Male</td>\n",
        "      <td>No</td>\n",
        "      <td>0</td>\n",
        "      <td>Graduate</td>\n",
        "      <td>No</td>\n",
        "      <td>5849</td>\n",
        "      <td>0.0</td>\n",
        "      <td>NaN</td>\n",
        "      <td>360.0</td>\n",
        "      <td>1.0</td>\n",
        "      <td>Urban</td>\n",
        "      <td>Y</td>\n",
        "      <td>5849.0</td>\n",
        "    </tr>\n",
        "    <tr>\n",
        "      <th>35</th>\n",
        "      <td>LP001106</td>\n",
        "      <td>Male</td>\n",
        "      <td>Yes</td>\n",
        "      <td>0</td>\n",
        "      <td>Graduate</td>\n",
        "      <td>No</td>\n",
        "      <td>2275</td>\n",
        "      <td>2067.0</td>\n",
        "      <td>NaN</td>\n",
        "      <td>360.0</td>\n",
        "      <td>1.0</td>\n",
        "      <td>Urban</td>\n",
        "      <td>Y</td>\n",
        "      <td>4342.0</td>\n",
        "    </tr>\n",
        "    <tr>\n",
        "      <th>63</th>\n",
        "      <td>LP001213</td>\n",
        "      <td>Male</td>\n",
        "      <td>Yes</td>\n",
        "      <td>1</td>\n",
        "      <td>Graduate</td>\n",
        "      <td>No</td>\n",
        "      <td>4945</td>\n",
        "      <td>0.0</td>\n",
        "      <td>NaN</td>\n",
        "      <td>360.0</td>\n",
        "      <td>0.0</td>\n",
        "      <td>Rural</td>\n",
        "      <td>N</td>\n",
        "      <td>4945.0</td>\n",
        "    </tr>\n",
        "    <tr>\n",
        "      <th>81</th>\n",
        "      <td>LP001266</td>\n",
        "      <td>Male</td>\n",
        "      <td>Yes</td>\n",
        "      <td>1</td>\n",
        "      <td>Graduate</td>\n",
        "      <td>Yes</td>\n",
        "      <td>2395</td>\n",
        "      <td>0.0</td>\n",
        "      <td>NaN</td>\n",
        "      <td>360.0</td>\n",
        "      <td>1.0</td>\n",
        "      <td>Semiurban</td>\n",
        "      <td>Y</td>\n",
        "      <td>2395.0</td>\n",
        "    </tr>\n",
        "    <tr>\n",
        "      <th>95</th>\n",
        "      <td>LP001326</td>\n",
        "      <td>Male</td>\n",
        "      <td>No</td>\n",
        "      <td>0</td>\n",
        "      <td>Graduate</td>\n",
        "      <td>No</td>\n",
        "      <td>6782</td>\n",
        "      <td>0.0</td>\n",
        "      <td>NaN</td>\n",
        "      <td>360.0</td>\n",
        "      <td>NaN</td>\n",
        "      <td>Urban</td>\n",
        "      <td>N</td>\n",
        "      <td>6782.0</td>\n",
        "    </tr>\n",
        "    <tr>\n",
        "      <th>102</th>\n",
        "      <td>LP001350</td>\n",
        "      <td>Male</td>\n",
        "      <td>Yes</td>\n",
        "      <td>0</td>\n",
        "      <td>Graduate</td>\n",
        "      <td>No</td>\n",
        "      <td>13650</td>\n",
        "      <td>0.0</td>\n",
        "      <td>NaN</td>\n",
        "      <td>360.0</td>\n",
        "      <td>1.0</td>\n",
        "      <td>Urban</td>\n",
        "      <td>Y</td>\n",
        "      <td>13650.0</td>\n",
        "    </tr>\n",
        "    <tr>\n",
        "      <th>103</th>\n",
        "      <td>LP001356</td>\n",
        "      <td>Male</td>\n",
        "      <td>Yes</td>\n",
        "      <td>0</td>\n",
        "      <td>Graduate</td>\n",
        "      <td>No</td>\n",
        "      <td>4652</td>\n",
        "      <td>3583.0</td>\n",
        "      <td>NaN</td>\n",
        "      <td>360.0</td>\n",
        "      <td>1.0</td>\n",
        "      <td>Semiurban</td>\n",
        "      <td>Y</td>\n",
        "      <td>8235.0</td>\n",
        "    </tr>\n",
        "    <tr>\n",
        "      <th>113</th>\n",
        "      <td>LP001392</td>\n",
        "      <td>Female</td>\n",
        "      <td>No</td>\n",
        "      <td>1</td>\n",
        "      <td>Graduate</td>\n",
        "      <td>Yes</td>\n",
        "      <td>7451</td>\n",
        "      <td>0.0</td>\n",
        "      <td>NaN</td>\n",
        "      <td>360.0</td>\n",
        "      <td>1.0</td>\n",
        "      <td>Semiurban</td>\n",
        "      <td>Y</td>\n",
        "      <td>7451.0</td>\n",
        "    </tr>\n",
        "    <tr>\n",
        "      <th>127</th>\n",
        "      <td>LP001449</td>\n",
        "      <td>Male</td>\n",
        "      <td>No</td>\n",
        "      <td>0</td>\n",
        "      <td>Graduate</td>\n",
        "      <td>No</td>\n",
        "      <td>3865</td>\n",
        "      <td>1640.0</td>\n",
        "      <td>NaN</td>\n",
        "      <td>360.0</td>\n",
        "      <td>1.0</td>\n",
        "      <td>Rural</td>\n",
        "      <td>Y</td>\n",
        "      <td>5505.0</td>\n",
        "    </tr>\n",
        "    <tr>\n",
        "      <th>202</th>\n",
        "      <td>LP001682</td>\n",
        "      <td>Male</td>\n",
        "      <td>Yes</td>\n",
        "      <td>3+</td>\n",
        "      <td>Not Graduate</td>\n",
        "      <td>No</td>\n",
        "      <td>3992</td>\n",
        "      <td>0.0</td>\n",
        "      <td>NaN</td>\n",
        "      <td>180.0</td>\n",
        "      <td>1.0</td>\n",
        "      <td>Urban</td>\n",
        "      <td>N</td>\n",
        "      <td>3992.0</td>\n",
        "    </tr>\n",
        "    <tr>\n",
        "      <th>284</th>\n",
        "      <td>LP001922</td>\n",
        "      <td>Male</td>\n",
        "      <td>Yes</td>\n",
        "      <td>0</td>\n",
        "      <td>Graduate</td>\n",
        "      <td>No</td>\n",
        "      <td>20667</td>\n",
        "      <td>0.0</td>\n",
        "      <td>NaN</td>\n",
        "      <td>360.0</td>\n",
        "      <td>1.0</td>\n",
        "      <td>Rural</td>\n",
        "      <td>N</td>\n",
        "      <td>20667.0</td>\n",
        "    </tr>\n",
        "    <tr>\n",
        "      <th>305</th>\n",
        "      <td>LP001990</td>\n",
        "      <td>Male</td>\n",
        "      <td>No</td>\n",
        "      <td>0</td>\n",
        "      <td>Not Graduate</td>\n",
        "      <td>No</td>\n",
        "      <td>2000</td>\n",
        "      <td>0.0</td>\n",
        "      <td>NaN</td>\n",
        "      <td>360.0</td>\n",
        "      <td>1.0</td>\n",
        "      <td>Urban</td>\n",
        "      <td>N</td>\n",
        "      <td>2000.0</td>\n",
        "    </tr>\n",
        "    <tr>\n",
        "      <th>322</th>\n",
        "      <td>LP002054</td>\n",
        "      <td>Male</td>\n",
        "      <td>Yes</td>\n",
        "      <td>2</td>\n",
        "      <td>Not Graduate</td>\n",
        "      <td>No</td>\n",
        "      <td>3601</td>\n",
        "      <td>1590.0</td>\n",
        "      <td>NaN</td>\n",
        "      <td>360.0</td>\n",
        "      <td>1.0</td>\n",
        "      <td>Rural</td>\n",
        "      <td>Y</td>\n",
        "      <td>5191.0</td>\n",
        "    </tr>\n",
        "    <tr>\n",
        "      <th>338</th>\n",
        "      <td>LP002113</td>\n",
        "      <td>Female</td>\n",
        "      <td>No</td>\n",
        "      <td>3+</td>\n",
        "      <td>Not Graduate</td>\n",
        "      <td>No</td>\n",
        "      <td>1830</td>\n",
        "      <td>0.0</td>\n",
        "      <td>NaN</td>\n",
        "      <td>360.0</td>\n",
        "      <td>0.0</td>\n",
        "      <td>Urban</td>\n",
        "      <td>N</td>\n",
        "      <td>1830.0</td>\n",
        "    </tr>\n",
        "    <tr>\n",
        "      <th>387</th>\n",
        "      <td>LP002243</td>\n",
        "      <td>Male</td>\n",
        "      <td>Yes</td>\n",
        "      <td>0</td>\n",
        "      <td>Not Graduate</td>\n",
        "      <td>No</td>\n",
        "      <td>3010</td>\n",
        "      <td>3136.0</td>\n",
        "      <td>NaN</td>\n",
        "      <td>360.0</td>\n",
        "      <td>0.0</td>\n",
        "      <td>Urban</td>\n",
        "      <td>N</td>\n",
        "      <td>6146.0</td>\n",
        "    </tr>\n",
        "    <tr>\n",
        "      <th>435</th>\n",
        "      <td>LP002393</td>\n",
        "      <td>Female</td>\n",
        "      <td>Yes</td>\n",
        "      <td>0</td>\n",
        "      <td>Graduate</td>\n",
        "      <td>No</td>\n",
        "      <td>10047</td>\n",
        "      <td>0.0</td>\n",
        "      <td>NaN</td>\n",
        "      <td>240.0</td>\n",
        "      <td>1.0</td>\n",
        "      <td>Semiurban</td>\n",
        "      <td>Y</td>\n",
        "      <td>10047.0</td>\n",
        "    </tr>\n",
        "    <tr>\n",
        "      <th>437</th>\n",
        "      <td>LP002401</td>\n",
        "      <td>Male</td>\n",
        "      <td>Yes</td>\n",
        "      <td>0</td>\n",
        "      <td>Graduate</td>\n",
        "      <td>No</td>\n",
        "      <td>2213</td>\n",
        "      <td>1125.0</td>\n",
        "      <td>NaN</td>\n",
        "      <td>360.0</td>\n",
        "      <td>1.0</td>\n",
        "      <td>Urban</td>\n",
        "      <td>Y</td>\n",
        "      <td>3338.0</td>\n",
        "    </tr>\n",
        "    <tr>\n",
        "      <th>479</th>\n",
        "      <td>LP002533</td>\n",
        "      <td>Male</td>\n",
        "      <td>Yes</td>\n",
        "      <td>2</td>\n",
        "      <td>Graduate</td>\n",
        "      <td>No</td>\n",
        "      <td>2947</td>\n",
        "      <td>1603.0</td>\n",
        "      <td>NaN</td>\n",
        "      <td>360.0</td>\n",
        "      <td>1.0</td>\n",
        "      <td>Urban</td>\n",
        "      <td>N</td>\n",
        "      <td>4550.0</td>\n",
        "    </tr>\n",
        "    <tr>\n",
        "      <th>524</th>\n",
        "      <td>LP002697</td>\n",
        "      <td>Male</td>\n",
        "      <td>No</td>\n",
        "      <td>0</td>\n",
        "      <td>Graduate</td>\n",
        "      <td>No</td>\n",
        "      <td>4680</td>\n",
        "      <td>2087.0</td>\n",
        "      <td>NaN</td>\n",
        "      <td>360.0</td>\n",
        "      <td>1.0</td>\n",
        "      <td>Semiurban</td>\n",
        "      <td>N</td>\n",
        "      <td>6767.0</td>\n",
        "    </tr>\n",
        "    <tr>\n",
        "      <th>550</th>\n",
        "      <td>LP002778</td>\n",
        "      <td>Male</td>\n",
        "      <td>Yes</td>\n",
        "      <td>2</td>\n",
        "      <td>Graduate</td>\n",
        "      <td>Yes</td>\n",
        "      <td>6633</td>\n",
        "      <td>0.0</td>\n",
        "      <td>NaN</td>\n",
        "      <td>360.0</td>\n",
        "      <td>0.0</td>\n",
        "      <td>Rural</td>\n",
        "      <td>N</td>\n",
        "      <td>6633.0</td>\n",
        "    </tr>\n",
        "    <tr>\n",
        "      <th>551</th>\n",
        "      <td>LP002784</td>\n",
        "      <td>Male</td>\n",
        "      <td>Yes</td>\n",
        "      <td>1</td>\n",
        "      <td>Not Graduate</td>\n",
        "      <td>No</td>\n",
        "      <td>2492</td>\n",
        "      <td>2375.0</td>\n",
        "      <td>NaN</td>\n",
        "      <td>360.0</td>\n",
        "      <td>1.0</td>\n",
        "      <td>Rural</td>\n",
        "      <td>Y</td>\n",
        "      <td>4867.0</td>\n",
        "    </tr>\n",
        "    <tr>\n",
        "      <th>605</th>\n",
        "      <td>LP002960</td>\n",
        "      <td>Male</td>\n",
        "      <td>Yes</td>\n",
        "      <td>0</td>\n",
        "      <td>Not Graduate</td>\n",
        "      <td>No</td>\n",
        "      <td>2400</td>\n",
        "      <td>3800.0</td>\n",
        "      <td>NaN</td>\n",
        "      <td>180.0</td>\n",
        "      <td>1.0</td>\n",
        "      <td>Urban</td>\n",
        "      <td>N</td>\n",
        "      <td>6200.0</td>\n",
        "    </tr>\n",
        "  </tbody>\n",
        "</table>\n",
        "</div>"
       ],
       "metadata": {},
       "output_type": "pyout",
       "prompt_number": 133,
       "text": [
        "      Loan_ID  Gender Married Dependents     Education Self_Employed  \\\n",
        "0    LP001002    Male      No          0      Graduate            No   \n",
        "35   LP001106    Male     Yes          0      Graduate            No   \n",
        "63   LP001213    Male     Yes          1      Graduate            No   \n",
        "81   LP001266    Male     Yes          1      Graduate           Yes   \n",
        "95   LP001326    Male      No          0      Graduate            No   \n",
        "102  LP001350    Male     Yes          0      Graduate            No   \n",
        "103  LP001356    Male     Yes          0      Graduate            No   \n",
        "113  LP001392  Female      No          1      Graduate           Yes   \n",
        "127  LP001449    Male      No          0      Graduate            No   \n",
        "202  LP001682    Male     Yes         3+  Not Graduate            No   \n",
        "284  LP001922    Male     Yes          0      Graduate            No   \n",
        "305  LP001990    Male      No          0  Not Graduate            No   \n",
        "322  LP002054    Male     Yes          2  Not Graduate            No   \n",
        "338  LP002113  Female      No         3+  Not Graduate            No   \n",
        "387  LP002243    Male     Yes          0  Not Graduate            No   \n",
        "435  LP002393  Female     Yes          0      Graduate            No   \n",
        "437  LP002401    Male     Yes          0      Graduate            No   \n",
        "479  LP002533    Male     Yes          2      Graduate            No   \n",
        "524  LP002697    Male      No          0      Graduate            No   \n",
        "550  LP002778    Male     Yes          2      Graduate           Yes   \n",
        "551  LP002784    Male     Yes          1  Not Graduate            No   \n",
        "605  LP002960    Male     Yes          0  Not Graduate            No   \n",
        "\n",
        "     ApplicantIncome  CoapplicantIncome  LoanAmount  Loan_Amount_Term  \\\n",
        "0               5849                0.0         NaN             360.0   \n",
        "35              2275             2067.0         NaN             360.0   \n",
        "63              4945                0.0         NaN             360.0   \n",
        "81              2395                0.0         NaN             360.0   \n",
        "95              6782                0.0         NaN             360.0   \n",
        "102            13650                0.0         NaN             360.0   \n",
        "103             4652             3583.0         NaN             360.0   \n",
        "113             7451                0.0         NaN             360.0   \n",
        "127             3865             1640.0         NaN             360.0   \n",
        "202             3992                0.0         NaN             180.0   \n",
        "284            20667                0.0         NaN             360.0   \n",
        "305             2000                0.0         NaN             360.0   \n",
        "322             3601             1590.0         NaN             360.0   \n",
        "338             1830                0.0         NaN             360.0   \n",
        "387             3010             3136.0         NaN             360.0   \n",
        "435            10047                0.0         NaN             240.0   \n",
        "437             2213             1125.0         NaN             360.0   \n",
        "479             2947             1603.0         NaN             360.0   \n",
        "524             4680             2087.0         NaN             360.0   \n",
        "550             6633                0.0         NaN             360.0   \n",
        "551             2492             2375.0         NaN             360.0   \n",
        "605             2400             3800.0         NaN             180.0   \n",
        "\n",
        "     Credit_History Property_Area Loan_Status  TotalIncome  \n",
        "0               1.0         Urban           Y       5849.0  \n",
        "35              1.0         Urban           Y       4342.0  \n",
        "63              0.0         Rural           N       4945.0  \n",
        "81              1.0     Semiurban           Y       2395.0  \n",
        "95              NaN         Urban           N       6782.0  \n",
        "102             1.0         Urban           Y      13650.0  \n",
        "103             1.0     Semiurban           Y       8235.0  \n",
        "113             1.0     Semiurban           Y       7451.0  \n",
        "127             1.0         Rural           Y       5505.0  \n",
        "202             1.0         Urban           N       3992.0  \n",
        "284             1.0         Rural           N      20667.0  \n",
        "305             1.0         Urban           N       2000.0  \n",
        "322             1.0         Rural           Y       5191.0  \n",
        "338             0.0         Urban           N       1830.0  \n",
        "387             0.0         Urban           N       6146.0  \n",
        "435             1.0     Semiurban           Y      10047.0  \n",
        "437             1.0         Urban           Y       3338.0  \n",
        "479             1.0         Urban           N       4550.0  \n",
        "524             1.0     Semiurban           N       6767.0  \n",
        "550             0.0         Rural           N       6633.0  \n",
        "551             1.0         Rural           Y       4867.0  \n",
        "605             1.0         Urban           N       6200.0  "
       ]
      }
     ],
     "prompt_number": 133
    },
    {
     "cell_type": "code",
     "collapsed": false,
     "input": [
      "def fage(x):\n",
      "    return table.loc[x[\"Self_Employed\"],x[\"Education\"]]"
     ],
     "language": "python",
     "metadata": {},
     "outputs": [],
     "prompt_number": 132
    },
    {
     "cell_type": "code",
     "collapsed": false,
     "input": [
      "df[\"LoanAmount\"].fillna(df[df[\"LoanAmount\"].isnull()].apply(lambda x: fage(x), axis=1), inplace=True)"
     ],
     "language": "python",
     "metadata": {},
     "outputs": [],
     "prompt_number": 134
    },
    {
     "cell_type": "code",
     "collapsed": false,
     "input": [
      "df['LoanAmount_log'] = np.log(df['LoanAmount'])\n",
      "df['LoanAmount_log'].hist(bins=55)"
     ],
     "language": "python",
     "metadata": {},
     "outputs": [
      {
       "metadata": {},
       "output_type": "pyout",
       "prompt_number": 135,
       "text": [
        "<matplotlib.axes._subplots.AxesSubplot at 0x7f0e1c48de50>"
       ]
      },
      {
       "metadata": {},
       "output_type": "display_data",
       "png": "[encoded data removed]",
       "text": [
        "<matplotlib.figure.Figure at 0x7f0e1c5f2490>"
       ]
      }
     ],
     "prompt_number": 135
    },
    {
     "cell_type": "code",
     "collapsed": false,
     "input": [
      "df['TotalIncome_log'] = np.log(df['TotalIncome'])"
     ],
     "language": "python",
     "metadata": {},
     "outputs": [],
     "prompt_number": 136
    },
    {
     "cell_type": "code",
     "collapsed": false,
     "input": [
      "var_mod = ['Gender','Married','Dependents','Education','Self_Employed','Property_Area','Loan_Status']\n",
      "from sklearn.preprocessing import LabelEncoder"
     ],
     "language": "python",
     "metadata": {},
     "outputs": [],
     "prompt_number": 140
    },
    {
     "cell_type": "code",
     "collapsed": false,
     "input": [
      "for i in var_mod:\n",
      "    le = LabelEncoder()\n",
      "    df[i] = le.fit_transform(df[i])"
     ],
     "language": "python",
     "metadata": {},
     "outputs": [],
     "prompt_number": 141
    },
    {
     "cell_type": "code",
     "collapsed": false,
     "input": [
      "df.dtypes"
     ],
     "language": "python",
     "metadata": {},
     "outputs": [
      {
       "metadata": {},
       "output_type": "pyout",
       "prompt_number": 142,
       "text": [
        "Loan_ID               object\n",
        "Gender                 int64\n",
        "Married                int64\n",
        "Dependents             int64\n",
        "Education              int64\n",
        "Self_Employed          int64\n",
        "ApplicantIncome        int64\n",
        "CoapplicantIncome    float64\n",
        "LoanAmount           float64\n",
        "Loan_Amount_Term     float64\n",
        "Credit_History       float64\n",
        "Property_Area          int64\n",
        "Loan_Status            int64\n",
        "TotalIncome          float64\n",
        "LoanAmount_log       float64\n",
        "TotalIncome_log      float64\n",
        "dtype: object"
       ]
      }
     ],
     "prompt_number": 142
    },
    {
     "cell_type": "code",
     "collapsed": false,
     "input": [
      "from sklearn import metrics\n",
      "from sklearn.linear_model import LogisticRegression\n",
      "from sklearn.ensemble import RandomForestClassifier\n",
      "from sklearn.tree import DecisionTreeClassifier, export_graphviz"
     ],
     "language": "python",
     "metadata": {},
     "outputs": [],
     "prompt_number": 143
    },
    {
     "cell_type": "code",
     "collapsed": false,
     "input": [
      "from sklearn.cross_validation import KFold"
     ],
     "language": "python",
     "metadata": {},
     "outputs": [],
     "prompt_number": 144
    },
    {
     "cell_type": "code",
     "collapsed": false,
     "input": [
      "def classification_model(model, data, predictors, outcome):\n",
      "    model.fit(data[predictors], data[outcome])\n",
      "    predictions = model.predict(data[predictors])\n",
      "    accuracy = metrics.accuracy_score(predictions, data[outcome])\n",
      "    print \"Accuracy : %s\" % \"{0:.3%}\".format(accuracy)\n",
      "    \n",
      "    kf = KFold(data.shape[0],n_folds=5)\n",
      "    error = []\n",
      "    for train, test in kf:\n",
      "        train_predictors = (data[predictors].iloc[train,:])\n",
      "        train_target = data[outcome].iloc[train]\n",
      "        model.fit(train_predictors, train_target)\n",
      "        error.append(model.score(data[predictors].iloc[test,:], data[outcome].iloc[test]))\n",
      "    print \"Cross-Validation Score : %s\" % \"{0:.3%}\".format(np.mean(error))\n",
      "    model.fit(data[predictors],data[outcome]) "
     ],
     "language": "python",
     "metadata": {},
     "outputs": [],
     "prompt_number": 145
    },
    {
     "cell_type": "code",
     "collapsed": false,
     "input": [
      "outcome_var = 'Loan_Status'\n",
      "model = LogisticRegression()\n",
      "predictor_var = ['Credit_History']\n",
      "classification_model(model, df,predictor_var,outcome_var)"
     ],
     "language": "python",
     "metadata": {},
     "outputs": [
      {
       "output_type": "stream",
       "stream": "stdout",
       "text": [
        "Accuracy : 80.945%\n",
        "Cross-Validation Score : 80.946%\n"
       ]
      }
     ],
     "prompt_number": 146
    },
    {
     "cell_type": "code",
     "collapsed": false,
     "input": [],
     "language": "python",
     "metadata": {},
     "outputs": []
    }
   ],
   "metadata": {}
  }
 ]
}